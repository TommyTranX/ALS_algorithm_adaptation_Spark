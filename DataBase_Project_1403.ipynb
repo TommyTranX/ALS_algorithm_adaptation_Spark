{
 "cells": [
  {
   "cell_type": "markdown",
   "metadata": {},
   "source": [
    "# <center> Database Management Project: <br> Recommender System using ALS for implicit Feedback </center>\n",
    "### <center> Tommy Tran, Thomas de Mareuil, Constantin Vodé - March 2020 </center>"
   ]
  },
  {
   "cell_type": "markdown",
   "metadata": {
    "toc": true
   },
   "source": [
    "<h1>Table of Contents<span class=\"tocSkip\"></span></h1>\n",
    "<div class=\"toc\"><ul class=\"toc-item\"><li><span><a href=\"#-Database-Management-Project:--Recommender-System-using-ALS-for-implicit-Feedback-\" data-toc-modified-id=\"-Database-Management-Project:--Recommender-System-using-ALS-for-implicit-Feedback--1\"><span class=\"toc-item-num\">1&nbsp;&nbsp;</span><center> Database Management Project: <br> Recommender System using ALS for implicit Feedback </center></a></span><ul class=\"toc-item\"><li><ul class=\"toc-item\"><li><span><a href=\"#-Tommy-Tran,-Thomas-de-Mareuil,-Constantin-Vodé---March-2020-\" data-toc-modified-id=\"-Tommy-Tran,-Thomas-de-Mareuil,-Constantin-Vodé---March-2020--1.0.1\"><span class=\"toc-item-num\">1.0.1&nbsp;&nbsp;</span><center> Tommy Tran, Thomas de Mareuil, Constantin Vodé - March 2020 </center></a></span></li></ul></li><li><span><a href=\"#Parsing-the-Data\" data-toc-modified-id=\"Parsing-the-Data-1.1\"><span class=\"toc-item-num\">1.1&nbsp;&nbsp;</span>Parsing the Data</a></span></li><li><span><a href=\"#Loading-and-exploring-the-data-in-Spark\" data-toc-modified-id=\"Loading-and-exploring-the-data-in-Spark-1.2\"><span class=\"toc-item-num\">1.2&nbsp;&nbsp;</span>Loading and exploring the data in Spark</a></span><ul class=\"toc-item\"><li><span><a href=\"#What-are-the-possible-ratings?\" data-toc-modified-id=\"What-are-the-possible-ratings?-1.2.1\"><span class=\"toc-item-num\">1.2.1&nbsp;&nbsp;</span>What are the possible ratings?</a></span></li><li><span><a href=\"#What-are-the-minimum-number-of-ratings-per-user-and-minimum-number-of-ratings-per-product-(for-rated-products)?\" data-toc-modified-id=\"What-are-the-minimum-number-of-ratings-per-user-and-minimum-number-of-ratings-per-product-(for-rated-products)?-1.2.2\"><span class=\"toc-item-num\">1.2.2&nbsp;&nbsp;</span>What are the minimum number of ratings per user and minimum number of ratings per product (for rated products)?</a></span></li><li><span><a href=\"#What-is-the-total-number-of-users-in-the-data-set?\" data-toc-modified-id=\"What-is-the-total-number-of-users-in-the-data-set?-1.2.3\"><span class=\"toc-item-num\">1.2.3&nbsp;&nbsp;</span>What is the total number of users in the data set?</a></span></li><li><span><a href=\"#What-is-the-total-number-of-products-in-the-data-set?\" data-toc-modified-id=\"What-is-the-total-number-of-products-in-the-data-set?-1.2.4\"><span class=\"toc-item-num\">1.2.4&nbsp;&nbsp;</span>What is the total number of products in the data set?</a></span></li><li><span><a href=\"#What-are-the-unrated-products?\" data-toc-modified-id=\"What-are-the-unrated-products?-1.2.5\"><span class=\"toc-item-num\">1.2.5&nbsp;&nbsp;</span>What are the unrated products?</a></span></li><li><span><a href=\"#Extracting-relevant-rating-data-as-an-RDD-for-further-analysis\" data-toc-modified-id=\"Extracting-relevant-rating-data-as-an-RDD-for-further-analysis-1.2.6\"><span class=\"toc-item-num\">1.2.6&nbsp;&nbsp;</span>Extracting relevant rating data as an RDD for further analysis</a></span></li></ul></li><li><span><a href=\"#Our-implemention-of-the-ALS-algorithm-in-Spark\" data-toc-modified-id=\"Our-implemention-of-the-ALS-algorithm-in-Spark-1.3\"><span class=\"toc-item-num\">1.3&nbsp;&nbsp;</span>Our implemention of the ALS algorithm in Spark</a></span></li><li><span><a href=\"#Our-implemention-of-the-eALS-algorithm-in-Spark\" data-toc-modified-id=\"Our-implemention-of-the-eALS-algorithm-in-Spark-1.4\"><span class=\"toc-item-num\">1.4&nbsp;&nbsp;</span>Our implemention of the eALS algorithm in Spark</a></span><ul class=\"toc-item\"><li><ul class=\"toc-item\"><li><span><a href=\"#Reconstruct-ratings-from-reconstructed-rating-matrix-table-to-compare-with-predicted-ratings\" data-toc-modified-id=\"Reconstruct-ratings-from-reconstructed-rating-matrix-table-to-compare-with-predicted-ratings-1.4.0.1\"><span class=\"toc-item-num\">1.4.0.1&nbsp;&nbsp;</span>Reconstruct ratings from reconstructed rating matrix table to compare with predicted ratings</a></span></li></ul></li></ul></li><li><span><a href=\"#Spark-ALS-using-the-existing-pyspark-library\" data-toc-modified-id=\"Spark-ALS-using-the-existing-pyspark-library-1.5\"><span class=\"toc-item-num\">1.5&nbsp;&nbsp;</span>Spark ALS using the existing pyspark library</a></span><ul class=\"toc-item\"><li><span><a href=\"#ALS-model-selection-and-evaluation\" data-toc-modified-id=\"ALS-model-selection-and-evaluation-1.5.1\"><span class=\"toc-item-num\">1.5.1&nbsp;&nbsp;</span>ALS model selection and evaluation</a></span></li><li><span><a href=\"#ALS-Model-Learning-curve\" data-toc-modified-id=\"ALS-Model-Learning-curve-1.5.2\"><span class=\"toc-item-num\">1.5.2&nbsp;&nbsp;</span>ALS Model Learning curve</a></span></li><li><span><a href=\"#Model-testing\" data-toc-modified-id=\"Model-testing-1.5.3\"><span class=\"toc-item-num\">1.5.3&nbsp;&nbsp;</span>Model testing</a></span></li></ul></li></ul></li></ul></div>"
   ]
  },
  {
   "cell_type": "code",
   "execution_count": 4,
   "metadata": {},
   "outputs": [],
   "source": [
    "# spark imports\n",
    "from pyspark import SparkContext\n",
    "from pyspark.sql import SparkSession, Row\n",
    "from pyspark.sql.functions import UserDefinedFunction, explode, desc\n",
    "from pyspark.sql.types import StringType, ArrayType\n",
    "from pyspark.ml.evaluation import RegressionEvaluator\n",
    "from pyspark.mllib.recommendation import ALS\n",
    "from pyspark.ml.recommendation import ALS\n",
    "\n",
    "# data science imports\n",
    "import math\n",
    "import numpy as np\n",
    "from numpy.random import rand\n",
    "from numpy import matrix\n",
    "import pandas as pd\n",
    "from sklearn import preprocessing\n",
    "\n",
    "# visualization imports\n",
    "import seaborn as sns\n",
    "import matplotlib.pyplot as plt\n",
    "\n",
    "# other imports\n",
    "import sys\n",
    "import time\n",
    "from __future__ import print_function\n",
    "import gzip\n",
    "from ast import literal_eval\n",
    "import json\n",
    "import simplejson\n",
    "\n",
    "%matplotlib inline\n",
    "\n",
    "sc = SparkContext('local')\n",
    "spark = SparkSession(sc)"
   ]
  },
  {
   "cell_type": "markdown",
   "metadata": {},
   "source": [
    "## Parsing the Data"
   ]
  },
  {
   "cell_type": "code",
   "execution_count": null,
   "metadata": {},
   "outputs": [],
   "source": [
    "# Function to parse the \"Cell Phones & Accessories Ratings\"\" dataset, format .txt,\n",
    "# downloaded from ... as recommended in ...'s paper.\n",
    "\n",
    "def parse(filename):\n",
    "    f = open(filename, 'r')\n",
    "    entry = {}\n",
    "    for l in f:\n",
    "        l = l.strip()\n",
    "        colonPos = l.find(':')\n",
    "        if colonPos == -1:\n",
    "            yield entry\n",
    "            entry = {}\n",
    "            continue\n",
    "        eName = l[:colonPos]\n",
    "        rest = l[colonPos+2:]\n",
    "        entry[eName] = rest\n",
    "    yield entry\n",
    "\n",
    "    \n",
    "# Parsing the data\n",
    "\n",
    "for e in parse(\"Cell_Phones_&_Accessories.txt\"):\n",
    "    a = simplejson.dumps(e)\n",
    "    a = literal_eval(a)\n",
    "    df = pd.DataFrame(a, index=[1,])\n",
    "    df = df.drop(index=1)\n",
    "    break;\n",
    "\n",
    "i=0\n",
    "for e in parse(\"Cell_Phones_&_Accessories.txt\"):\n",
    "    i+=1\n",
    "    b = simplejson.dumps(e)\n",
    "    b = literal_eval(b)\n",
    "\n",
    "    b = pd.DataFrame(b, index=[1,])\n",
    "    df = df.append(b, ignore_index=True)\n",
    "    if i==1000:\n",
    "        break;\n",
    "        \n",
    "\n",
    "# Encoding products Ids (label encoding)\n",
    "\n",
    "le = preprocessing.LabelEncoder()\n",
    "le.fit(df['product/productId'])\n",
    "le.classes_\n",
    "df['product/productId'] = le.transform(df['product/productId'])\n",
    "\n",
    "# Encoding users Ids (label encoding)\n",
    "\n",
    "le = preprocessing.LabelEncoder()\n",
    "le.fit(df['review/userId'])\n",
    "le.classes_\n",
    "df['review/userId'] = le.transform(df['review/userId'])\n",
    "\n",
    "\n",
    "# Saving as .csv\n",
    "\n",
    "df.to_csv('ratings.csv', index=False)\n",
    "\n",
    "df = pd.read_csv('ratings.csv')\n",
    "df.head()"
   ]
  },
  {
   "cell_type": "markdown",
   "metadata": {},
   "source": [
    "## Loading and exploring the data in Spark"
   ]
  },
  {
   "cell_type": "code",
   "execution_count": 22,
   "metadata": {},
   "outputs": [],
   "source": [
    "# spark config\n",
    "spark = SparkSession \\\n",
    "    .builder \\\n",
    "    .appName(\"movie recommendation\") \\\n",
    "    .config(\"spark.driver.maxResultSize\", \"96g\") \\\n",
    "    .config(\"spark.driver.memory\", \"96g\") \\\n",
    "    .config(\"spark.executor.memory\", \"8g\") \\\n",
    "    .config(\"spark.master\", \"local[12]\") \\\n",
    "    .getOrCreate()\n",
    "\n",
    "# get spark context\n",
    "sc = spark.sparkContext"
   ]
  },
  {
   "cell_type": "code",
   "execution_count": 24,
   "metadata": {},
   "outputs": [
    {
     "name": "stdout",
     "output_type": "stream",
     "text": [
      "+-----------------+--------------------+-------------+-------------+--------------------+------------------+------------+-----------+--------------------+--------------------+\n",
      "|product/productId|       product/title|product/price|review/userId|  review/profileName|review/helpfulness|review/score|review/time|      review/summary|         review/text|\n",
      "+-----------------+--------------------+-------------+-------------+--------------------+------------------+------------+-----------+--------------------+--------------------+\n",
      "|              741|Mobile Action MA7...|      unknown|         1935|             A. Igoe|               0/0|         1.0| 1233360000|          Don't buy!|First of all, the...|\n",
      "|              741|Mobile Action MA7...|      unknown|         7295|        Steven Martz|               0/0|         5.0| 1191456000|Mobile Action Blu...|Great product- tr...|\n",
      "|              741|Mobile Action MA7...|      unknown|         4031|\"Daniel M. Johnso...|               0/0|         4.0| 1186704000|                good|works real good.....|\n",
      "|              372|USB Data Cable fo...|      unknown|         3089|            E. Owens|               4/5|         4.0| 1146182400|No instructions i...|The price was rig...|\n",
      "|              372|USB Data Cable fo...|      unknown|         8347|\"Isaac Salas \"\"=C...|               0/0|         1.0| 1173657600|    NOT A DATA CABLE|this is NOT a DAT...|\n",
      "|              372|USB Data Cable fo...|      unknown|         3362|   David M. Cantrell|               0/0|         4.0| 1171584000|   works as expected|There's not much ...|\n",
      "|              372|USB Data Cable fo...|      unknown|         2778|       J. S. Gaviota|               0/0|         5.0| 1142467200|  Excellent product!|I have a Sony Eri...|\n",
      "|              372|USB Data Cable fo...|      unknown|         7637|\"Parathalyn \"\"Par...|               0/0|         1.0| 1133654400|Beware 3rd Party ...|Well, it technica...|\n",
      "|              372|USB Data Cable fo...|      unknown|         5168|             D. Cram|               1/2|         3.0| 1135814400|Undecided on prod...|I currently have ...|\n",
      "|              372|USB Data Cable fo...|      unknown|         6599|\"Jonathan C. Phil...|              6/10|         4.0| 1126915200|  Good cable to have|This is a good ca...|\n",
      "|              372|USB Data Cable fo...|      unknown|         7564|                Cole|               2/4|         1.0| 1149379200|Don't Take the Ch...|If you purchase t...|\n",
      "|              372|USB Data Cable fo...|      unknown|         1886|\"J. Baker \"\"Sunny\"\"\"|               1/3|         5.0| 1134518400|A must have produ...|This cable saves ...|\n",
      "|              521|Motorola HT820 St...|      unknown|         1516|Ivan Arturo Paiz ...|               2/2|         4.0| 1153872000|Great for mp3 pho...|A great device, I...|\n",
      "|              521|Motorola HT820 St...|      unknown|         9118|        J. Tomlinson|               0/0|         5.0| 1345161600|       Gold Standard|I've gone through...|\n",
      "|              521|Motorola HT820 St...|      unknown|         1528|\"John Anetrella \"...|               0/0|         5.0| 1316476800|           Old skewl|Review is a few y...|\n",
      "|              521|Motorola HT820 St...|      unknown|         4654|\"JRod3737 \"\"jrod3...|               5/8|         1.0| 1158624000|       Does not work|According to the ...|\n",
      "|              521|Motorola HT820 St...|      unknown|         9244|             unknown|               1/2|         3.0| 1232150400|IT WONT PAIR WITH...|IT PAIRED WTH MY ...|\n",
      "|              510|                null|      unknown|         5036|Martha Berenice P...|               0/0|         5.0| 1154217600|QUESTIONS ABOUT T...|I would like to b...|\n",
      "|              357|Belkin Executive ...|      unknown|         5145|\"Tim Tuohy \"\"Tp2e\"\"\"|               0/2|         5.0| 1183420800|Cool cover for De...|This leather cove...|\n",
      "|              410|Samsung T809 M620...|         6.75|         1890|            L. Henry|               1/1|         5.0| 1212364800|         Great Buy!!|I thought this it...|\n",
      "+-----------------+--------------------+-------------+-------------+--------------------+------------------+------------+-----------+--------------------+--------------------+\n",
      "only showing top 20 rows\n",
      "\n"
     ]
    }
   ],
   "source": [
    "ratings = spark.read.load('ratings.csv', format='csv', header=True, inferSchema=True)\n",
    "ratings.show()"
   ]
  },
  {
   "cell_type": "markdown",
   "metadata": {},
   "source": [
    "### What are the possible ratings?"
   ]
  },
  {
   "cell_type": "code",
   "execution_count": 25,
   "metadata": {},
   "outputs": [
    {
     "name": "stdout",
     "output_type": "stream",
     "text": [
      "Distinct values of ratings:\n",
      "[' & Books\"\"\"', ' and Roll!\"\"\"', ' etc.\"\"\"', ' gadget guy\"\"\"', '0/0', '1.0', '1/1', '1/2', '1/3', '13/14', '15/16', '2.0', '2/3', '20/21', '3.0', '3/3', '3/4', '4.0', '5.0', '5/5', '5/6', '5/7', '6/7', '6/9', '8/11', '8/8', '9/9']\n"
     ]
    }
   ],
   "source": [
    "print('Distinct values of ratings:')\n",
    "print(sorted(ratings.select('review/score').distinct().rdd.map(lambda r: r[0]).collect()))"
   ]
  },
  {
   "cell_type": "markdown",
   "metadata": {},
   "source": [
    "We will convert the ratings later so that they can be processed."
   ]
  },
  {
   "cell_type": "markdown",
   "metadata": {},
   "source": [
    "### What are the minimum number of ratings per user and minimum number of ratings per product (for rated products)?"
   ]
  },
  {
   "cell_type": "code",
   "execution_count": 26,
   "metadata": {},
   "outputs": [
    {
     "name": "stdout",
     "output_type": "stream",
     "text": [
      "For the users that rated movies and the movies that were rated:\n",
      "Minimum number of ratings per user is 1\n",
      "Minimum number of ratings per movie is 1\n"
     ]
    }
   ],
   "source": [
    "tmp1 = ratings.groupBy(\"review/userid\").count().toPandas()['count'].min()\n",
    "tmp2 = ratings.groupBy(\"product/title\").count().toPandas()['count'].min()\n",
    "print('For the users that rated products and the products that were rated:')\n",
    "print('Minimum number of ratings per user is {}'.format(tmp1))\n",
    "print('Minimum number of ratings per product is {}'.format(tmp2))"
   ]
  },
  {
   "cell_type": "markdown",
   "metadata": {},
   "source": [
    "### What is the total number of users in the data set?"
   ]
  },
  {
   "cell_type": "code",
   "execution_count": 27,
   "metadata": {},
   "outputs": [
    {
     "name": "stdout",
     "output_type": "stream",
     "text": [
      "We have a total of 9245 distinct users in the data sets\n"
     ]
    }
   ],
   "source": [
    "tmp3 = ratings.select('review/userid').distinct().count()\n",
    "print('We have a total of {} distinct users in the data set'.format(tmp3))"
   ]
  },
  {
   "cell_type": "markdown",
   "metadata": {},
   "source": [
    "### What is the total number of products in the data set?"
   ]
  },
  {
   "cell_type": "code",
   "execution_count": 28,
   "metadata": {},
   "outputs": [
    {
     "name": "stdout",
     "output_type": "stream",
     "text": [
      "We have a total of 976 distinct products in the data sets\n"
     ]
    }
   ],
   "source": [
    "tmp4 = ratings.select('product/productid').distinct().count()\n",
    "print('We have a total of {} distinct products in the data set'.format(tmp4))"
   ]
  },
  {
   "cell_type": "markdown",
   "metadata": {},
   "source": [
    "### What are the unrated products?"
   ]
  },
  {
   "cell_type": "code",
   "execution_count": 29,
   "metadata": {},
   "outputs": [
    {
     "name": "stdout",
     "output_type": "stream",
     "text": [
      "List product that are not rated yet: \n",
      "+-----------------+--------------------+\n",
      "|product/productid|       product/title|\n",
      "+-----------------+--------------------+\n",
      "|              741|Mobile Action MA7...|\n",
      "|              741|Mobile Action MA7...|\n",
      "|              741|Mobile Action MA7...|\n",
      "|              372|USB Data Cable fo...|\n",
      "|              372|USB Data Cable fo...|\n",
      "|              372|USB Data Cable fo...|\n",
      "|              372|USB Data Cable fo...|\n",
      "|              372|USB Data Cable fo...|\n",
      "|              372|USB Data Cable fo...|\n",
      "|              372|USB Data Cable fo...|\n",
      "+-----------------+--------------------+\n",
      "only showing top 10 rows\n",
      "\n"
     ]
    }
   ],
   "source": [
    "# We create a temp SQL table view for easier query:\n",
    "ratings.createOrReplaceTempView(\"ratings\")\n",
    "\n",
    "print('List of products that are not rated yet: ')\n",
    "\n",
    "# SQL query (NOTE: WHERE ... NOT IN ... == ... LEFT JOIN ... WHERE ... IS NULL)\n",
    "\n",
    "# Approach 1\n",
    "spark.sql(\n",
    "    \"SELECT `product/productid`, `product/title`\"\n",
    "    \"FROM ratings \"\n",
    ").show(10)\n",
    "\n",
    "# Approach 2\n",
    "# spark.sql(\n",
    "#     \"SELECT m.movieId, m.title \"\n",
    "#     \"FROM movies m LEFT JOIN ratings r ON m.movieId=r.movieId \"\n",
    "#     \"WHERE r.movieId IS NULL\"\n",
    "# ).show(10)"
   ]
  },
  {
   "cell_type": "markdown",
   "metadata": {},
   "source": [
    "### Extracting relevant rating data as an RDD for further analysis"
   ]
  },
  {
   "cell_type": "code",
   "execution_count": 5,
   "metadata": {},
   "outputs": [],
   "source": [
    "# File location and type\n",
    "file_location = \"ratings.csv\"\n",
    "file_type = \"csv\"\n",
    "\n",
    "# CSV options\n",
    "infer_schema = \"false\"\n",
    "first_row_is_header = \"false\"\n",
    "delimiter = \",\"\n",
    "\n",
    "# The applied options are for CSV files. For other file types, these will be ignored.\n",
    "df = spark.read.format(file_type) \\\n",
    "  .option(\"inferSchema\", infer_schema) \\\n",
    "  .option(\"header\", first_row_is_header) \\\n",
    "  .option(\"sep\", delimiter) \\\n",
    "  .load(file_location)\n",
    "\n",
    "rating_data = df.rdd\n",
    "\n",
    "header = rating_data.take(1)[0]\n",
    "\n",
    "rating_data = rating_data \\\n",
    "    .filter(lambda line: line!=header) \\\n",
    "    .map(lambda x: list(x))\\\n",
    "    .map(lambda x: (int(x[3]), int(x[0]), x[6].split('/')[0])) \\\n",
    "    .filter(lambda x: x[2]!=' and Roll!\"\"\"') \\\n",
    "    .filter(lambda x: x[2]!=' & Books\"\"\"') \\\n",
    "    .filter(lambda x: x[2]!=' etc.\"\"\"') \\\n",
    "    .filter(lambda x: x[2]!=' gadget guy\"\"\"') \\\n",
    "    .map(lambda x: (x[0], x[1], float(x[2])))\\\n",
    "    .cache()\n",
    "\n",
    "#rating_data.collect()"
   ]
  },
  {
   "cell_type": "markdown",
   "metadata": {},
   "source": [
    "## Our implemention of the ALS algorithm in Spark"
   ]
  },
  {
   "cell_type": "code",
   "execution_count": 6,
   "metadata": {
    "code_folding": []
   },
   "outputs": [],
   "source": [
    "#Additional functions\n",
    "\n",
    "def set_data_matrix(M, data_list):\n",
    "    for data in data_list:\n",
    "        M[data[0], data[1]] = data[2]\n",
    "    return M\n",
    "\n",
    "def update(i, mat, ratings): # i = x, mat = V if caculate U, rating is M.\n",
    "    uu = mat.shape[0]\n",
    "    ff = mat.shape[1]\n",
    "\n",
    "    XtX = mat.T * mat # projection matrix\n",
    "    Xty = mat.T * ratings[i, :].T\n",
    "\n",
    "    for j in range(ff):\n",
    "        XtX[j, j] += LAMBDA * uu\n",
    "\n",
    "    return np.linalg.solve(XtX, Xty)\n",
    "\n",
    "def rmse(R, ms, us):\n",
    "    diff = R - ms * us.T\n",
    "    return np.sqrt(np.sum(np.power(diff, 2)) / (M * U)\n",
    "                  )"
   ]
  },
  {
   "cell_type": "code",
   "execution_count": 7,
   "metadata": {},
   "outputs": [],
   "source": [
    "# re-init spark\n",
    "spark = SparkSession\\\n",
    "        .builder\\\n",
    "        .appName(\"PythonALS\")\\\n",
    "        .getOrCreate()\n",
    "\n",
    "sc = spark.sparkContext"
   ]
  },
  {
   "cell_type": "code",
   "execution_count": 8,
   "metadata": {},
   "outputs": [],
   "source": [
    "rating_list = rating_data.collect()\n",
    "\n",
    "LAMBDA = 0.01   # regularization\n",
    "\n",
    "U = len(pd.read_csv('ratings.csv')['product/productId'].unique()) # nb of items\n",
    "M = len(pd.read_csv('ratings.csv')['review/userId'].unique()) # nb of users\n",
    "F = 8 # latent vector    \n",
    "num_iters = 10\n",
    "partitions = 2\n",
    "\n",
    "R = np.full((M, U), 0, dtype=np.float64)\n",
    "R = matrix(set_data_matrix(R, rating_list)) # M"
   ]
  },
  {
   "cell_type": "code",
   "execution_count": 9,
   "metadata": {},
   "outputs": [
    {
     "name": "stdout",
     "output_type": "stream",
     "text": [
      "R= [[0. 0. 0. ... 0. 0. 0.]\n",
      " [0. 0. 0. ... 0. 0. 0.]\n",
      " [0. 0. 0. ... 0. 0. 0.]\n",
      " ...\n",
      " [0. 0. 0. ... 0. 0. 0.]\n",
      " [0. 0. 0. ... 0. 0. 0.]\n",
      " [4. 2. 5. ... 0. 0. 0.]]:\n",
      "ms= [[2.25425806e-14 2.25425806e-14 2.25425806e-14 ... 2.25425806e-14\n",
      "  2.25425806e-14 2.25425806e-14]\n",
      " [1.27787654e-02 1.27787654e-02 1.27787654e-02 ... 1.27787654e-02\n",
      "  1.27787654e-02 1.27787654e-02]\n",
      " [2.29777572e-03 2.29777572e-03 2.29777572e-03 ... 2.29777572e-03\n",
      "  2.29777572e-03 2.29777572e-03]\n",
      " ...\n",
      " [4.59555144e-04 4.59555144e-04 4.59555144e-04 ... 4.59555144e-04\n",
      "  4.59555144e-04 4.59555144e-04]\n",
      " [1.13630378e-03 1.13630378e-03 1.13630378e-03 ... 1.13630378e-03\n",
      "  1.13630378e-03 1.13630378e-03]\n",
      " [4.22484105e-01 4.22484105e-01 4.22484105e-01 ... 4.22484105e-01\n",
      "  4.22484105e-01 4.22484105e-01]]:\n",
      "\n",
      "\n",
      "\n",
      "us= [[6.99674285e-03 6.99674285e-03 6.99674285e-03 ... 6.99674285e-03\n",
      "  6.99674285e-03 6.99674285e-03]\n",
      " [3.57073218e-03 3.57073218e-03 3.57073218e-03 ... 3.57073218e-03\n",
      "  3.57073218e-03 3.57073218e-03]\n",
      " [8.76647815e-03 8.76647815e-03 8.76647815e-03 ... 8.76647815e-03\n",
      "  8.76647815e-03 8.76647815e-03]\n",
      " ...\n",
      " [2.84053749e-18 2.84053749e-18 2.84053749e-18 ... 2.84053749e-18\n",
      "  2.84053749e-18 2.84053749e-18]\n",
      " [1.02440265e-35 1.02440265e-35 1.02440265e-35 ... 1.02440265e-35\n",
      "  1.02440265e-35 1.02440265e-35]\n",
      " [9.54049315e-25 9.54049315e-25 9.54049317e-25 ... 9.54049316e-25\n",
      "  9.54049317e-25 9.54049316e-25]]:\n",
      "RMSE=0.1216\n"
     ]
    }
   ],
   "source": [
    "users = matrix(np.full((M, F), 1.0)) # U users matrix\n",
    "product = matrix(np.full((U, F), 1.0)) # V product matrix\n",
    "\n",
    "Rb = sc.broadcast(R)\n",
    "users_b = sc.broadcast(users)\n",
    "product_b = sc.broadcast(product)\n",
    "\n",
    "for i in range(num_iters):\n",
    "    users = sc.parallelize(range(M), partitions) \\\n",
    "           .map(lambda x: update(x, product_b.value, Rb.value)) \\\n",
    "           .collect() # U, x = row number\n",
    "    # collect() returns a list, so array ends up being\n",
    "    # a 3-d array, we take the first 2 dims for the matrix\n",
    "    users = matrix(np.array(users)[:, :, 0]) # U\n",
    "    users_b = sc.broadcast(users)\n",
    "\n",
    "    product = sc.parallelize(range(U), partitions) \\\n",
    "           .map(lambda x: update(x, users_b.value, Rb.value.T)) \\\n",
    "           .collect() # V, x = columns\n",
    "    product = matrix(np.array(product)[:, :, 0])\n",
    "    product_b = sc.broadcast(product)\n",
    "\n",
    "    error = rmse(R, users, product)\n",
    "\n",
    "#print(\"Iteration %d:\" % i)\n",
    "print(\"R= %s:\" % (str(R))) \n",
    "print(\"ms= %s:\" % (str(users)))   \n",
    "print('\\n\\n')\n",
    "print(\"us= %s:\" % (str(product)))           \n",
    "#print(\"\\nRMSE: %5.4f\\n\" % error)\n",
    "print(\"RMSE=%.4f\" % error)"
   ]
  },
  {
   "cell_type": "markdown",
   "metadata": {},
   "source": [
    "##  Our implemention of the eALS algorithm in Spark"
   ]
  },
  {
   "cell_type": "code",
   "execution_count": 10,
   "metadata": {},
   "outputs": [],
   "source": [
    "#re-init spark\n",
    "spark = SparkSession\\\n",
    "        .builder\\\n",
    "        .appName(\"Python_eALS\")\\\n",
    "        .getOrCreate()\n",
    "\n",
    "sc = spark.sparkContext"
   ]
  },
  {
   "cell_type": "code",
   "execution_count": 19,
   "metadata": {},
   "outputs": [],
   "source": [
    "def set_data_matrix(M, data_list):\n",
    "    for data in data_list:\n",
    "        M[data[0], data[1]] = data[2]\n",
    "    return M\n",
    "\n",
    "def update_user(u, U, V, R, SU, SV):\n",
    "    itemList = nb_items\n",
    "    SU_bis = SU.value\n",
    "    SV_bis = SV.value\n",
    "\n",
    "    # prediction cache for the user\n",
    "    for i in range(itemList):\n",
    "        prediction_items[i] = U[u]@V[i];\n",
    "        rating_items[i] = R[u][i];\n",
    "        w_items[i] = W[u][i]\n",
    "\n",
    "    oldVector = R[u]\n",
    "    for f in range(factors):\n",
    "        numer = 0\n",
    "        denom = 0\n",
    "        \n",
    "        #O(K) complexity for the negative part\n",
    "        for k in range(factors):\n",
    "            if k != f:\n",
    "                numer -= U[u][ k] * SV_bis[f][k]\n",
    "        \n",
    "\n",
    "        #O(Nu) complexity for the positive part\n",
    "        for i in range(itemList):\n",
    "            prediction_items[i] -= U[u][f] * V[i][f]\n",
    "            numer +=  (w_items[i]*rating_items[i] - (w_items[i]-Wi[i]) * prediction_items[i]) * V[i][f]\n",
    "            denom += (w_items[i]-Wi[i]) * V[i][f] * V[i][f]\n",
    "        denom += SV_bis[f][f] + reg;\n",
    "\n",
    "        #Parameter Update\n",
    "        U[u][f] = numer / denom\n",
    "\n",
    "        #Update the prediction cache\n",
    "        for i in range(itemList):\n",
    "            prediction_items[i] += U[u][f] * V[i][f]\n",
    "\n",
    "    #Update the SU cache\n",
    "    for f in range(factors):\n",
    "        for k in range(factors):\n",
    "            val = SU_bis[f][k] - oldVector[f] * oldVector[k] + U[u][f] * U[u][k]\n",
    "            SU_bis[f][k] = val\n",
    "            SU_bis[k][f] = val\n",
    "    #SU = sc.broadcast(SU_bis)\n",
    "    return U[u]"
   ]
  },
  {
   "cell_type": "code",
   "execution_count": 20,
   "metadata": {},
   "outputs": [],
   "source": [
    "def update_item(i, V, U, R, SU, SV):\n",
    "    userList = nb_users\n",
    "    SU_bis = SU.value\n",
    "    SV_bis = SV.value\n",
    "\n",
    "    # prediction cache for the user\n",
    "    for u in range(userList):\n",
    "        prediction_users[u] = U[u]@V[i]\n",
    "        rating_users[u] = R[u][i]\n",
    "        w_users[u] = W[u][i]\n",
    "\n",
    "    oldVector = R[i]\n",
    "    for f in range(factors):\n",
    "        numer = 0\n",
    "        denom = 0\n",
    "        \n",
    "        #O(K) complexity for the negative part\n",
    "        for k in range(factors):\n",
    "            if k != f:\n",
    "                numer -= V[i][ k] * SU_bis[f][k]\n",
    "        \n",
    "\n",
    "        #O(Nu) complexity for the positive part\n",
    "        for u in range(userList):\n",
    "            prediction_users[u] -= U[u][f] * V[i][f]\n",
    "            numer +=  (w_users[u]*rating_users[u] - (w_users[i]-Wi[i]) * prediction_users[u]) * U[u][f]\n",
    "            denom += (w_users[i]-Wi[i]) * U[u][f] * U[u][f]\n",
    "        denom += SU_bis[f][f] + reg;\n",
    "\n",
    "        #Parameter Update\n",
    "        V[i][f] = numer / denom\n",
    "\n",
    "        #Update the prediction cache\n",
    "        for u in range(userList):\n",
    "            prediction_users[u] += U[u][f] * V[i][f]\n",
    "\n",
    "    #Update the SV cache\n",
    "    for f in range(factors):\n",
    "        for k in range(factors):\n",
    "            val = SV_bis[f][k] - oldVector[f] * oldVector[k] * Wi[i] + V[i][f]*V[i][k]*Wi[i]\n",
    "            SV_bis[f][k] = val\n",
    "            SV_bis[k][f]= val\n",
    "    #SV = sc.broadcast(SV_bis)\n",
    "        \n",
    "    return V[i]"
   ]
  },
  {
   "cell_type": "code",
   "execution_count": 13,
   "metadata": {},
   "outputs": [],
   "source": [
    "rating_list = rating_data.collect()"
   ]
  },
  {
   "cell_type": "code",
   "execution_count": 24,
   "metadata": {},
   "outputs": [],
   "source": [
    "partitions = 10\n",
    "\n",
    "#/** Model priors to set. */\n",
    "factors = 10 # number of latent factors.\n",
    "maxIter = 20 #maximum iterations.\n",
    "reg = 0.01 #regularization parameters\n",
    "init_mean = 0;  # Gaussian mean for init V\n",
    "init_stdev = 0.01 #Gaussian std-dev for init V\n",
    "nb_items = len(pd.read_csv('ratings.csv')['product/productId'].unique()) #items\n",
    "nb_users = len(pd.read_csv('ratings.csv')['review/userId'].unique()) #users\n",
    "\n",
    "\n",
    "R = np.full((nb_users, nb_items), 0, dtype=np.float64)\n",
    "R = matrix(set_data_matrix(R, rating_list)) #M\n",
    "R = np.array(R)\n",
    "\n",
    "#// Set the Wi as a decay function w0 * pi ^ alpha\n",
    "w0 = 1\n",
    "s = 0 \n",
    "Z = 0\n",
    "alpha = 1\n",
    "p = [0 for i in range(nb_items)]\n",
    "\n",
    "for i in range(nb_items):\n",
    "    p[i] = sum(R[0]!=0) #Nb items by user\n",
    "    s += p[i]\n",
    "# convert p[i] to probability \n",
    "for i in range(nb_items):\n",
    "    p[i] = p[i]/s;\n",
    "   # p[i] = p[i]**alpha;\n",
    "    Z += p[i];\n",
    "#assign weight\n",
    "Wi = [0 for i in range(nb_items)];\n",
    "for i in range(nb_items):\n",
    "    Wi[i] = w0 * p[i] / Z;\n",
    "#By default, the weight for positive instance is uniformly 1.\n",
    "W = np.full((nb_users, nb_items), 0, dtype=np.float64)\n",
    "for u in range(nb_users):\n",
    "    for i in R[u]:\n",
    "        W[u][int(i)]= 1 \n",
    "\n",
    "        \n",
    "#Init caches\n",
    "prediction_users = [0 for i in range(nb_users)];\n",
    "prediction_items = [0 for i in range(nb_items)];\n",
    "rating_users = [0 for i in range(nb_users)];\n",
    "rating_items = [0 for i in range(nb_items)];\n",
    "w_users = [0 for i in range(nb_users)];\n",
    "w_items = [0 for i in range(nb_items)];\n",
    "\n",
    "#Init model parameters\n",
    "users = np.random.normal(init_mean, init_stdev, nb_users*factors).reshape((nb_users,factors))#latent vectors for users\n",
    "product = np.random.normal(init_mean, init_stdev, nb_items*factors).reshape((nb_items, factors)) #latent vectors for items\n",
    "SU = users.T@users\n",
    "SV = np.full((factors, factors), 0, dtype=np.float64)\n",
    "for f in range(factors):\n",
    "    for k in range(factors):\n",
    "        val = 0;\n",
    "        for i in range(nb_items):\n",
    "            val += product[i][f] * product[i][k]* Wi[i]\n",
    "        SV[f][k] = val\n",
    "        SV[k][f] = val\n"
   ]
  },
  {
   "cell_type": "code",
   "execution_count": null,
   "metadata": {},
   "outputs": [],
   "source": [
    "user_b = users\n",
    "product_b = product\n",
    "Rb = R\n",
    "SU = sc.broadcast(SU)\n",
    "SV = sc.broadcast(SV)\n",
    "\n",
    "\n",
    "for v in range(maxIter):\n",
    "    users = sc.parallelize(range(nb_users), partitions) \\\n",
    "               .map(lambda u: update_user(u, user_b, product_b, Rb, SU, SV)) \\\n",
    "               .collect() #u user id, \n",
    "    users_b = users\n",
    "\n",
    "    \n",
    "    product = sc.parallelize(range(nb_items), partitions) \\\n",
    "               .map(lambda i: update_item(i, product_b, user_b, Rb, SU, SV)) \\\n",
    "               .collect() #V, x = columns\n",
    "    product_b = product    "
   ]
  },
  {
   "cell_type": "code",
   "execution_count": 49,
   "metadata": {},
   "outputs": [
    {
     "data": {
      "text/plain": [
       "0.12399402466204804"
      ]
     },
     "execution_count": 49,
     "metadata": {},
     "output_type": "execute_result"
    }
   ],
   "source": [
    "def rmse_bis(R, ms, us):\n",
    "    diff = R - ms@us.T\n",
    "    return np.sqrt(np.sum(np.power(diff, 2)) / (nb_users * nb_items))\n",
    "                   \n",
    "rmse_bis(R, np.matrix(users), np.matrix(product))"
   ]
  },
  {
   "cell_type": "markdown",
   "metadata": {},
   "source": [
    "#### Reconstruct ratings from reconstructed rating matrix table to compare with predicted ratings"
   ]
  },
  {
   "cell_type": "code",
   "execution_count": 14,
   "metadata": {},
   "outputs": [],
   "source": [
    "R_reconstructed = np.matrix(users)@np.matrix(product).T\n",
    "r = pd.DataFrame(columns=['item_id', 'user_id', 'rate'])\n",
    "\n",
    "\n",
    "for line in rating_list:\n",
    "    product_j = line[1]\n",
    "    user_i = line[0]\n",
    "    rate = float(R_reconstructed[user_i].reshape(R_reconstructed[product_j].shape[1],1)[product_j])\n",
    "    r = r.append(pd.DataFrame(np.array([[int(product_j), int(user_i), rate]]), columns=['item_id', 'user_id', 'rate']), ignore_index=True)"
   ]
  },
  {
   "cell_type": "code",
   "execution_count": 18,
   "metadata": {},
   "outputs": [],
   "source": [
    "from math import floor\n",
    "r.rate = r.rate.apply(lambda x: round(x,1) if (x>0) else 0)"
   ]
  },
  {
   "cell_type": "markdown",
   "metadata": {},
   "source": [
    "## Spark ALS using the existing pyspark library"
   ]
  },
  {
   "cell_type": "markdown",
   "metadata": {},
   "source": [
    "### ALS model selection and evaluation"
   ]
  },
  {
   "cell_type": "code",
   "execution_count": 21,
   "metadata": {},
   "outputs": [
    {
     "name": "stdout",
     "output_type": "stream",
     "text": [
      "Root-mean-square error = 3.120677240286891\n"
     ]
    }
   ],
   "source": [
    "ratings = spark.createDataFrame(rating_data)\n",
    "(train, test) = ratings.randomSplit([0.8, 0.2])\n",
    "\n",
    "# Build the recommendation model using ALS on the training data\n",
    "# Note we set cold start strategy to 'drop' to ensure we don't get NaN evaluation metrics\n",
    "als = ALS(maxIter=5, regParam=0.01, userCol=\"_1\", itemCol=\"_2\", ratingCol=\"_3\",\n",
    "          coldStartStrategy=\"drop\")\n",
    "model = als.fit(train)\n",
    "\n",
    "# Evaluate the model by computing the RMSE on the test data\n",
    "predictions = model.transform(test)\n",
    "evaluator = RegressionEvaluator(metricName=\"rmse\", labelCol=\"_3\",\n",
    "                                predictionCol=\"prediction\")\n",
    "rmse = evaluator.evaluate(predictions)\n",
    "print(\"Root-mean-square error = \" + str(rmse))"
   ]
  },
  {
   "cell_type": "code",
   "execution_count": 22,
   "metadata": {},
   "outputs": [],
   "source": [
    "# Generate top 10 product recommendations for each user\n",
    "userRecs = model.recommendForAllUsers(10)\n",
    "# Generate top 10 user recommendations for each product\n",
    "movieRecs = model.recommendForAllItems(10)"
   ]
  },
  {
   "cell_type": "code",
   "execution_count": 26,
   "metadata": {},
   "outputs": [],
   "source": [
    "def train_ALS(train_data, validation_data, num_iters, reg_param, ranks):\n",
    "    \"\"\"\n",
    "    Grid Search Function to select the best model based on RMSE of hold-out data\n",
    "    \"\"\"\n",
    "    # initial\n",
    "    min_error = float('inf')\n",
    "    best_rank = -1\n",
    "    best_regularization = 0\n",
    "    best_model = None\n",
    "    for rank in ranks:\n",
    "        for reg in reg_param:\n",
    "            # train ALS model\n",
    "            als = ALS(maxIter=num_iters, regParam=reg, userCol=\"_1\", itemCol=\"_2\", ratingCol=\"_3\",\n",
    "              coldStartStrategy=\"drop\")\n",
    "            model = als.fit(train)\n",
    "            # make prediction\n",
    "            predictions = model.transform(test)\n",
    "            evaluator = RegressionEvaluator(metricName=\"rmse\", labelCol=\"_3\",\n",
    "                                predictionCol=\"prediction\")\n",
    "            rmse = evaluator.evaluate(predictions)\n",
    "            print('{} latent factors and regularization = {}: validation RMSE is {}'.format(rank, reg, rmse))\n",
    "            if rmse < min_error:\n",
    "                min_error = rmse\n",
    "                best_rank = rank\n",
    "                best_regularization = reg\n",
    "                best_model = model\n",
    "    print('\\nThe best model has {} latent factors and regularization = {}'.format(best_rank, best_regularization))\n",
    "    return best_model"
   ]
  },
  {
   "cell_type": "code",
   "execution_count": 27,
   "metadata": {},
   "outputs": [
    {
     "name": "stdout",
     "output_type": "stream",
     "text": [
      "8 latent factors and regularization = 0.001: validation RMSE is 3.3331102801915704\n",
      "8 latent factors and regularization = 0.01: validation RMSE is 2.9467707735746833\n",
      "8 latent factors and regularization = 0.05: validation RMSE is 2.816589387154773\n",
      "8 latent factors and regularization = 0.1: validation RMSE is 2.7352330477000217\n",
      "8 latent factors and regularization = 0.2: validation RMSE is 2.6822093319222815\n",
      "10 latent factors and regularization = 0.001: validation RMSE is 3.3331102801915704\n",
      "10 latent factors and regularization = 0.01: validation RMSE is 2.9467707735746833\n",
      "10 latent factors and regularization = 0.05: validation RMSE is 2.816589387154773\n",
      "10 latent factors and regularization = 0.1: validation RMSE is 2.7352330477000217\n",
      "10 latent factors and regularization = 0.2: validation RMSE is 2.6822093319222815\n",
      "12 latent factors and regularization = 0.001: validation RMSE is 3.3331102801915704\n",
      "12 latent factors and regularization = 0.01: validation RMSE is 2.9467707735746833\n",
      "12 latent factors and regularization = 0.05: validation RMSE is 2.816589387154773\n",
      "12 latent factors and regularization = 0.1: validation RMSE is 2.7352330477000217\n",
      "12 latent factors and regularization = 0.2: validation RMSE is 2.6822093319222815\n",
      "14 latent factors and regularization = 0.001: validation RMSE is 3.3331102801915704\n",
      "14 latent factors and regularization = 0.01: validation RMSE is 2.9467707735746833\n",
      "14 latent factors and regularization = 0.05: validation RMSE is 2.816589387154773\n",
      "14 latent factors and regularization = 0.1: validation RMSE is 2.7352330477000217\n",
      "14 latent factors and regularization = 0.2: validation RMSE is 2.6822093319222815\n",
      "16 latent factors and regularization = 0.001: validation RMSE is 3.3331102801915704\n",
      "16 latent factors and regularization = 0.01: validation RMSE is 2.9467707735746833\n",
      "16 latent factors and regularization = 0.05: validation RMSE is 2.816589387154773\n",
      "16 latent factors and regularization = 0.1: validation RMSE is 2.7352330477000217\n",
      "16 latent factors and regularization = 0.2: validation RMSE is 2.6822093319222815\n",
      "18 latent factors and regularization = 0.001: validation RMSE is 3.3331102801915704\n",
      "18 latent factors and regularization = 0.01: validation RMSE is 2.9467707735746833\n",
      "18 latent factors and regularization = 0.05: validation RMSE is 2.816589387154773\n",
      "18 latent factors and regularization = 0.1: validation RMSE is 2.7352330477000217\n",
      "18 latent factors and regularization = 0.2: validation RMSE is 2.6822093319222815\n",
      "20 latent factors and regularization = 0.001: validation RMSE is 3.3331102801915704\n",
      "20 latent factors and regularization = 0.01: validation RMSE is 2.9467707735746833\n",
      "20 latent factors and regularization = 0.05: validation RMSE is 2.816589387154773\n",
      "20 latent factors and regularization = 0.1: validation RMSE is 2.7352330477000217\n",
      "20 latent factors and regularization = 0.2: validation RMSE is 2.6822093319222815\n",
      "\n",
      "The best model has 8 latent factors and regularization = 0.2\n",
      "Total Runtime: 298.50 seconds\n"
     ]
    }
   ],
   "source": [
    "# hyper-param config\n",
    "num_iterations = 10\n",
    "ranks = [8, 10, 12, 14, 16, 18, 20]\n",
    "reg_params = [0.001, 0.01, 0.05, 0.1, 0.2]\n",
    "\n",
    "# grid search and select best model\n",
    "start_time = time.time()\n",
    "final_model = train_ALS(train, test, num_iterations, reg_params, ranks)\n",
    "\n",
    "print ('Total Runtime: {:.2f} seconds'.format(time.time() - start_time))"
   ]
  },
  {
   "cell_type": "markdown",
   "metadata": {},
   "source": [
    "### ALS Model Learning curve"
   ]
  },
  {
   "cell_type": "code",
   "execution_count": 30,
   "metadata": {},
   "outputs": [],
   "source": [
    "def plot_learning_curve(arr_iters, train_data, validation_data, reg, rank):\n",
    "    \"\"\"\n",
    "    Plot function to show learning curve of ALS\n",
    "    \"\"\"\n",
    "    errors = []\n",
    "    for num_iters in arr_iters:\n",
    "        # train ALS model\n",
    "        als = ALS(maxIter=num_iters, regParam=reg, userCol=\"_1\", itemCol=\"_2\", ratingCol=\"_3\",\n",
    "          coldStartStrategy=\"drop\")\n",
    "        model = als.fit(train)\n",
    "        # make prediction\n",
    "        predictions = model.transform(test)\n",
    "        evaluator = RegressionEvaluator(metricName=\"rmse\", labelCol=\"_3\",\n",
    "                            predictionCol=\"prediction\")\n",
    "        rmse = evaluator.evaluate(predictions)\n",
    "        errors.append(rmse)\n",
    "\n",
    "    # plot\n",
    "    plt.figure(figsize=(12, 6))\n",
    "    plt.plot(arr_iters, errors)\n",
    "    plt.xlabel('number of iterations')\n",
    "    plt.ylabel('RMSE')\n",
    "    plt.title('ALS Learning Curve')\n",
    "    plt.grid(True)\n",
    "    plt.show()"
   ]
  },
  {
   "cell_type": "code",
   "execution_count": 31,
   "metadata": {},
   "outputs": [
    {
     "data": {
      "image/png": "[encoded data removed]",
      "text/plain": [
       "<Figure size 864x432 with 1 Axes>"
      ]
     },
     "metadata": {},
     "output_type": "display_data"
    }
   ],
   "source": [
    "# create an array of num_iters\n",
    "iter_array = list(range(1, 11))\n",
    "# create learning curve plot\n",
    "plot_learning_curve(iter_array, train, test, 0.05, 20)"
   ]
  },
  {
   "cell_type": "markdown",
   "metadata": {},
   "source": [
    "### Model testing"
   ]
  },
  {
   "cell_type": "code",
   "execution_count": 32,
   "metadata": {},
   "outputs": [
    {
     "name": "stdout",
     "output_type": "stream",
     "text": [
      "Root-mean-square error = 2.6822093319222815\n"
     ]
    }
   ],
   "source": [
    "# Evaluate the final model by computing the RMSE on the test data\n",
    "predictions = final_model.transform(test)\n",
    "evaluator = RegressionEvaluator(metricName=\"rmse\", labelCol=\"_3\",\n",
    "                                predictionCol=\"prediction\")\n",
    "rmse = evaluator.evaluate(predictions)\n",
    "print(\"Root-mean-square error = \" + str(rmse))"
   ]
  }
 ],
 "metadata": {
  "kernelspec": {
   "display_name": "Python 3",
   "language": "python",
   "name": "python3"
  },
  "language_info": {
   "codemirror_mode": {
    "name": "ipython",
    "version": 3
   },
   "file_extension": ".py",
   "mimetype": "text/x-python",
   "name": "python",
   "nbconvert_exporter": "python",
   "pygments_lexer": "ipython3",
   "version": "3.7.3"
  },
  "toc": {
   "base_numbering": 1,
   "nav_menu": {},
   "number_sections": true,
   "sideBar": true,
   "skip_h1_title": false,
   "title_cell": "Table of Contents",
   "title_sidebar": "Contents",
   "toc_cell": true,
   "toc_position": {
    "height": "calc(100% - 180px)",
    "left": "10px",
    "top": "150px",
    "width": "288px"
   },
   "toc_section_display": true,
   "toc_window_display": true
  },
  "varInspector": {
   "cols": {
    "lenName": 16,
    "lenType": 16,
    "lenVar": 40
   },
   "kernels_config": {
    "python": {
     "delete_cmd_postfix": "",
     "delete_cmd_prefix": "del ",
     "library": "var_list.py",
     "varRefreshCmd": "print(var_dic_list())"
    },
    "r": {
     "delete_cmd_postfix": ") ",
     "delete_cmd_prefix": "rm(",
     "library": "var_list.r",
     "varRefreshCmd": "cat(var_dic_list()) "
    }
   },
   "types_to_exclude": [
    "module",
    "function",
    "builtin_function_or_method",
    "instance",
    "_Feature"
   ],
   "window_display": false
  }
 },
 "nbformat": 4,
 "nbformat_minor": 2
}
