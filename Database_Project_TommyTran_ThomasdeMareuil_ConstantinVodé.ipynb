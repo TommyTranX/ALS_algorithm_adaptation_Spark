{
 "cells": [
  {
   "cell_type": "markdown",
   "metadata": {},
   "source": [
    "# <center> Database Management Project: <br> Recommender System in Spark using ALS for implicit Feedback </center>\n",
    "<center><b>Tommy Tran, Thomas de Mareuil, Constantin Vodé - March 2020 </b></center>"
   ]
  },
  {
   "cell_type": "markdown",
   "metadata": {},
   "source": [
    "This project is based on the paper \"Fast Matrix Factorization for Online Recommendation with Implicit Feedback\" by H. Xiangnan _et al._ , National University of Singapore, published at SIGIR '16, July 2016, Pisa (Italy), and available through this [link](https://www.comp.nus.edu.sg/~xiangnan/papers/sigir16-eals-cm.pdf).\n",
    "\n",
    "The data we use in this project is a dataset recommended in the paper, comprising 78.930 reviews for Cell phones & Accesories on Amazon, collected by Stanford's Jure Leskovec, PhD, and available through this [link](http://snap.stanford.edu/data/web-Amazon-links.html).\n",
    "\n",
    "We start by parsing the dataset and loading it in Spark to explore it. Then we implement the regular ALS method for matrix factorization, and the more efficient eALS method presented in the paper. In these steps, we implement from scratch the algortihms presented in the paper and we adapt them to Spark (`PySpark`). In the final section, we implement ALS matrix factorization again but using PySpark's existing ALS library, and we test it on our dataset."
   ]
  },
  {
   "cell_type": "markdown",
   "metadata": {
    "toc": true
   },
   "source": [
    "<h1>Table of Contents<span class=\"tocSkip\"></span></h1>\n",
    "<div class=\"toc\"><ul class=\"toc-item\"><li><span><a href=\"#Parsing,-loading-and-exploring-the-data-in-Spark\" data-toc-modified-id=\"Parsing,-loading-and-exploring-the-data-in-Spark-1\"><span class=\"toc-item-num\">1&nbsp;&nbsp;</span>Parsing, loading and exploring the data in Spark</a></span><ul class=\"toc-item\"><li><span><a href=\"#Parsing-the-Data\" data-toc-modified-id=\"Parsing-the-Data-1.1\"><span class=\"toc-item-num\">1.1&nbsp;&nbsp;</span>Parsing the Data</a></span></li><li><span><a href=\"#Loading-the-data-in-Spark\" data-toc-modified-id=\"Loading-the-data-in-Spark-1.2\"><span class=\"toc-item-num\">1.2&nbsp;&nbsp;</span>Loading the data in Spark</a></span></li><li><span><a href=\"#Data-exploration-with-Spark\" data-toc-modified-id=\"Data-exploration-with-Spark-1.3\"><span class=\"toc-item-num\">1.3&nbsp;&nbsp;</span>Data exploration with Spark</a></span><ul class=\"toc-item\"><li><span><a href=\"#Getting-insights-from-the-data-with-Spark-queries\" data-toc-modified-id=\"Getting-insights-from-the-data-with-Spark-queries-1.3.1\"><span class=\"toc-item-num\">1.3.1&nbsp;&nbsp;</span>Getting insights from the data with Spark queries</a></span></li><li><span><a href=\"#Extracting-rating-data-as-an-RDD-for-further-analysis\" data-toc-modified-id=\"Extracting-rating-data-as-an-RDD-for-further-analysis-1.3.2\"><span class=\"toc-item-num\">1.3.2&nbsp;&nbsp;</span>Extracting rating data as an RDD for further analysis</a></span></li></ul></li></ul></li><li><span><a href=\"#Our-implemention-of-the-ALS-matrix-factorization-algorithm-in-Spark\" data-toc-modified-id=\"Our-implemention-of-the-ALS-matrix-factorization-algorithm-in-Spark-2\"><span class=\"toc-item-num\">2&nbsp;&nbsp;</span>Our implemention of the ALS matrix factorization algorithm in Spark</a></span></li><li><span><a href=\"#Our-implemention-of-the-eALS-algorithm-for-fast-matrix-factorization-in-Spark\" data-toc-modified-id=\"Our-implemention-of-the-eALS-algorithm-for-fast-matrix-factorization-in-Spark-3\"><span class=\"toc-item-num\">3&nbsp;&nbsp;</span>Our implemention of the eALS algorithm for fast matrix factorization in Spark</a></span><ul class=\"toc-item\"><li><span><a href=\"#RMSE\" data-toc-modified-id=\"RMSE-3.1\"><span class=\"toc-item-num\">3.1&nbsp;&nbsp;</span>RMSE</a></span></li></ul></li><li><span><a href=\"#Recommender-system-using-the-existing-ALS-implementation-in-PySpark\" data-toc-modified-id=\"Recommender-system-using-the-existing-ALS-implementation-in-PySpark-4\"><span class=\"toc-item-num\">4&nbsp;&nbsp;</span>Recommender system using the existing ALS implementation in PySpark</a></span><ul class=\"toc-item\"><li><span><a href=\"#Recommender-system-with-existing-PySpark-ALS\" data-toc-modified-id=\"Recommender-system-with-existing-PySpark-ALS-4.1\"><span class=\"toc-item-num\">4.1&nbsp;&nbsp;</span>Recommender system with existing PySpark ALS</a></span></li><li><span><a href=\"#Generate-top-10-product-recommendations-for-each-user\" data-toc-modified-id=\"Generate-top-10-product-recommendations-for-each-user-4.2\"><span class=\"toc-item-num\">4.2&nbsp;&nbsp;</span>Generate top 10 product recommendations for each user</a></span></li><li><span><a href=\"#ALS-model-evaluation-and-selection-(grid-search)\" data-toc-modified-id=\"ALS-model-evaluation-and-selection-(grid-search)-4.3\"><span class=\"toc-item-num\">4.3&nbsp;&nbsp;</span>ALS model evaluation and selection (grid search)</a></span></li><li><span><a href=\"#ALS-model-learning-curve\" data-toc-modified-id=\"ALS-model-learning-curve-4.4\"><span class=\"toc-item-num\">4.4&nbsp;&nbsp;</span>ALS model learning curve</a></span></li></ul></li><li><span><a href=\"#Conclusion\" data-toc-modified-id=\"Conclusion-5\"><span class=\"toc-item-num\">5&nbsp;&nbsp;</span>Conclusion</a></span></li></ul></div>"
   ]
  },
  {
   "cell_type": "code",
   "execution_count": 1,
   "metadata": {},
   "outputs": [],
   "source": [
    "# spark imports\n",
    "from pyspark import SparkContext\n",
    "from pyspark.sql import SparkSession, Row\n",
    "from pyspark.sql.functions import UserDefinedFunction, explode, desc\n",
    "from pyspark.sql.types import StringType, ArrayType\n",
    "from pyspark.ml.evaluation import RegressionEvaluator\n",
    "from pyspark.mllib.recommendation import ALS\n",
    "from pyspark.ml.recommendation import ALS\n",
    "\n",
    "# data science imports\n",
    "import pandas as pd\n",
    "import numpy as np\n",
    "from numpy import matrix\n",
    "from numpy.random import rand\n",
    "from sklearn import preprocessing\n",
    "import math\n",
    "from math import floor\n",
    "\n",
    "# visualization imports\n",
    "import seaborn as sns\n",
    "import matplotlib.pyplot as plt\n",
    "\n",
    "# other imports\n",
    "import sys\n",
    "import time\n",
    "#from __future__ import print_function\n",
    "import gzip\n",
    "from ast import literal_eval\n",
    "import json\n",
    "import simplejson\n",
    "\n",
    "%matplotlib inline\n",
    "\n",
    "sc = SparkContext('local')\n",
    "spark = SparkSession(sc)"
   ]
  },
  {
   "cell_type": "markdown",
   "metadata": {},
   "source": [
    "## Parsing, loading and exploring the data in Spark"
   ]
  },
  {
   "cell_type": "markdown",
   "metadata": {},
   "source": [
    "### Parsing the Data"
   ]
  },
  {
   "cell_type": "code",
   "execution_count": 2,
   "metadata": {},
   "outputs": [],
   "source": [
    "def parse(filename):\n",
    "    \"\"\"\n",
    "    Function to parse the \"Cell Phones & Accessories Ratings\" dataset (.txt format)\n",
    "    \"\"\"\n",
    "    f = open(filename, 'r')\n",
    "    entry = {}\n",
    "    for l in f:\n",
    "        l = l.strip()\n",
    "        colonPos = l.find(':')\n",
    "        if colonPos == -1:\n",
    "            yield entry\n",
    "            entry = {}\n",
    "            continue\n",
    "        eName = l[:colonPos]\n",
    "        rest = l[colonPos+2:]\n",
    "        entry[eName] = rest\n",
    "    yield entry\n",
    "\n",
    "\n",
    "# Parsing the data\n",
    "\n",
    "for e in parse(\"Cell_Phones_&_Accessories.txt\"):\n",
    "    a = simplejson.dumps(e)\n",
    "    a = literal_eval(a)\n",
    "    df = pd.DataFrame(a, index=[1,])\n",
    "    df = df.drop(index=1)\n",
    "    break;\n",
    "\n",
    "i=0\n",
    "for e in parse(\"Cell_Phones_&_Accessories.txt\"):\n",
    "    i+=1\n",
    "    b = simplejson.dumps(e)\n",
    "    b = literal_eval(b)\n",
    "\n",
    "    b = pd.DataFrame(b, index=[1,])\n",
    "    df = df.append(b, ignore_index=True)\n",
    "    if i==1000:\n",
    "        break;"
   ]
  },
  {
   "cell_type": "code",
   "execution_count": 3,
   "metadata": {},
   "outputs": [],
   "source": [
    "# Encoding products Ids (label encoding)\n",
    "\n",
    "le = preprocessing.LabelEncoder()\n",
    "le.fit(df['product/productId'])\n",
    "le.classes_\n",
    "df['product/productId'] = le.transform(df['product/productId'])\n",
    "\n",
    "# Encoding users Ids (label encoding)\n",
    "\n",
    "le = preprocessing.LabelEncoder()\n",
    "le.fit(df['review/userId'])\n",
    "le.classes_\n",
    "df['review/userId'] = le.transform(df['review/userId'])"
   ]
  },
  {
   "cell_type": "code",
   "execution_count": 4,
   "metadata": {
    "scrolled": true
   },
   "outputs": [
    {
     "data": {
      "text/html": [
       "<div>\n",
       "<style scoped>\n",
       "    .dataframe tbody tr th:only-of-type {\n",
       "        vertical-align: middle;\n",
       "    }\n",
       "\n",
       "    .dataframe tbody tr th {\n",
       "        vertical-align: top;\n",
       "    }\n",
       "\n",
       "    .dataframe thead th {\n",
       "        text-align: right;\n",
       "    }\n",
       "</style>\n",
       "<table border=\"1\" class=\"dataframe\">\n",
       "  <thead>\n",
       "    <tr style=\"text-align: right;\">\n",
       "      <th></th>\n",
       "      <th>product/productId</th>\n",
       "      <th>product/title</th>\n",
       "      <th>product/price</th>\n",
       "      <th>review/userId</th>\n",
       "      <th>review/profileName</th>\n",
       "      <th>review/helpfulness</th>\n",
       "      <th>review/score</th>\n",
       "      <th>review/time</th>\n",
       "      <th>review/summary</th>\n",
       "      <th>review/text</th>\n",
       "    </tr>\n",
       "  </thead>\n",
       "  <tbody>\n",
       "    <tr>\n",
       "      <th>0</th>\n",
       "      <td>741</td>\n",
       "      <td>Mobile Action MA730 Handset Manager - Bluetoot...</td>\n",
       "      <td>unknown</td>\n",
       "      <td>1935</td>\n",
       "      <td>A. Igoe</td>\n",
       "      <td>0/0</td>\n",
       "      <td>1.0</td>\n",
       "      <td>1233360000</td>\n",
       "      <td>Don't buy!</td>\n",
       "      <td>First of all, the company took my money and se...</td>\n",
       "    </tr>\n",
       "    <tr>\n",
       "      <th>1</th>\n",
       "      <td>741</td>\n",
       "      <td>Mobile Action MA730 Handset Manager - Bluetoot...</td>\n",
       "      <td>unknown</td>\n",
       "      <td>7295</td>\n",
       "      <td>Steven Martz</td>\n",
       "      <td>0/0</td>\n",
       "      <td>5.0</td>\n",
       "      <td>1191456000</td>\n",
       "      <td>Mobile Action Bluetooth Mobile Phone Tool Soft...</td>\n",
       "      <td>Great product- tried others and this is a ten ...</td>\n",
       "    </tr>\n",
       "    <tr>\n",
       "      <th>2</th>\n",
       "      <td>741</td>\n",
       "      <td>Mobile Action MA730 Handset Manager - Bluetoot...</td>\n",
       "      <td>unknown</td>\n",
       "      <td>4031</td>\n",
       "      <td>Daniel M. Johnson \"rocknbluesharp\"</td>\n",
       "      <td>0/0</td>\n",
       "      <td>4.0</td>\n",
       "      <td>1186704000</td>\n",
       "      <td>good</td>\n",
       "      <td>works real good....a little hard to set up...w...</td>\n",
       "    </tr>\n",
       "    <tr>\n",
       "      <th>3</th>\n",
       "      <td>372</td>\n",
       "      <td>USB Data Cable for Sony-Ericsson Z600, Z500, Z...</td>\n",
       "      <td>unknown</td>\n",
       "      <td>3089</td>\n",
       "      <td>E. Owens</td>\n",
       "      <td>4/5</td>\n",
       "      <td>4.0</td>\n",
       "      <td>1146182400</td>\n",
       "      <td>No instructions included...</td>\n",
       "      <td>The price was right for this cable ($11.95+$4....</td>\n",
       "    </tr>\n",
       "    <tr>\n",
       "      <th>4</th>\n",
       "      <td>372</td>\n",
       "      <td>USB Data Cable for Sony-Ericsson Z600, Z500, Z...</td>\n",
       "      <td>unknown</td>\n",
       "      <td>8347</td>\n",
       "      <td>Isaac Salas \"=CRBF=gB^link\"</td>\n",
       "      <td>0/0</td>\n",
       "      <td>1.0</td>\n",
       "      <td>1173657600</td>\n",
       "      <td>NOT A DATA CABLE</td>\n",
       "      <td>this is NOT a DATA CABLE this is only a USB ch...</td>\n",
       "    </tr>\n",
       "  </tbody>\n",
       "</table>\n",
       "</div>"
      ],
      "text/plain": [
       "   product/productId                                      product/title  \\\n",
       "0                741  Mobile Action MA730 Handset Manager - Bluetoot...   \n",
       "1                741  Mobile Action MA730 Handset Manager - Bluetoot...   \n",
       "2                741  Mobile Action MA730 Handset Manager - Bluetoot...   \n",
       "3                372  USB Data Cable for Sony-Ericsson Z600, Z500, Z...   \n",
       "4                372  USB Data Cable for Sony-Ericsson Z600, Z500, Z...   \n",
       "\n",
       "  product/price  review/userId                  review/profileName  \\\n",
       "0       unknown           1935                             A. Igoe   \n",
       "1       unknown           7295                        Steven Martz   \n",
       "2       unknown           4031  Daniel M. Johnson \"rocknbluesharp\"   \n",
       "3       unknown           3089                            E. Owens   \n",
       "4       unknown           8347         Isaac Salas \"=CRBF=gB^link\"   \n",
       "\n",
       "  review/helpfulness  review/score  review/time  \\\n",
       "0                0/0           1.0   1233360000   \n",
       "1                0/0           5.0   1191456000   \n",
       "2                0/0           4.0   1186704000   \n",
       "3                4/5           4.0   1146182400   \n",
       "4                0/0           1.0   1173657600   \n",
       "\n",
       "                                      review/summary  \\\n",
       "0                                         Don't buy!   \n",
       "1  Mobile Action Bluetooth Mobile Phone Tool Soft...   \n",
       "2                                               good   \n",
       "3                        No instructions included...   \n",
       "4                                   NOT A DATA CABLE   \n",
       "\n",
       "                                         review/text  \n",
       "0  First of all, the company took my money and se...  \n",
       "1  Great product- tried others and this is a ten ...  \n",
       "2  works real good....a little hard to set up...w...  \n",
       "3  The price was right for this cable ($11.95+$4....  \n",
       "4  this is NOT a DATA CABLE this is only a USB ch...  "
      ]
     },
     "execution_count": 4,
     "metadata": {},
     "output_type": "execute_result"
    }
   ],
   "source": [
    "# Saving as .csv\n",
    "#df.to_csv('ratings.csv', index=False)\n",
    "\n",
    "data = pd.read_csv('ratings.csv')\n",
    "data.head()"
   ]
  },
  {
   "cell_type": "markdown",
   "metadata": {},
   "source": [
    "Now that we have a useable dataset, we can load it and explore it in Spark."
   ]
  },
  {
   "cell_type": "markdown",
   "metadata": {},
   "source": [
    "### Loading the data in Spark"
   ]
  },
  {
   "cell_type": "code",
   "execution_count": 5,
   "metadata": {},
   "outputs": [],
   "source": [
    "# spark config\n",
    "spark = SparkSession \\\n",
    "    .builder \\\n",
    "    .appName(\"product recommendations\") \\\n",
    "    .config(\"spark.driver.maxResultSize\", \"96g\") \\\n",
    "    .config(\"spark.driver.memory\", \"96g\") \\\n",
    "    .config(\"spark.executor.memory\", \"8g\") \\\n",
    "    .config(\"spark.master\", \"local[12]\") \\\n",
    "    .getOrCreate()\n",
    "\n",
    "# get spark context\n",
    "sc = spark.sparkContext"
   ]
  },
  {
   "cell_type": "code",
   "execution_count": 6,
   "metadata": {},
   "outputs": [
    {
     "name": "stdout",
     "output_type": "stream",
     "text": [
      "+-----------------+--------------------+-------------+-------------+--------------------+------------------+------------+-----------+--------------------+--------------------+\n",
      "|product/productId|       product/title|product/price|review/userId|  review/profileName|review/helpfulness|review/score|review/time|      review/summary|         review/text|\n",
      "+-----------------+--------------------+-------------+-------------+--------------------+------------------+------------+-----------+--------------------+--------------------+\n",
      "|              741|Mobile Action MA7...|      unknown|         1935|             A. Igoe|               0/0|         1.0| 1233360000|          Don't buy!|First of all, the...|\n",
      "|              741|Mobile Action MA7...|      unknown|         7295|        Steven Martz|               0/0|         5.0| 1191456000|Mobile Action Blu...|Great product- tr...|\n",
      "|              741|Mobile Action MA7...|      unknown|         4031|\"Daniel M. Johnso...|               0/0|         4.0| 1186704000|                good|works real good.....|\n",
      "|              372|USB Data Cable fo...|      unknown|         3089|            E. Owens|               4/5|         4.0| 1146182400|No instructions i...|The price was rig...|\n",
      "|              372|USB Data Cable fo...|      unknown|         8347|\"Isaac Salas \"\"=C...|               0/0|         1.0| 1173657600|    NOT A DATA CABLE|this is NOT a DAT...|\n",
      "|              372|USB Data Cable fo...|      unknown|         3362|   David M. Cantrell|               0/0|         4.0| 1171584000|   works as expected|There's not much ...|\n",
      "|              372|USB Data Cable fo...|      unknown|         2778|       J. S. Gaviota|               0/0|         5.0| 1142467200|  Excellent product!|I have a Sony Eri...|\n",
      "|              372|USB Data Cable fo...|      unknown|         7637|\"Parathalyn \"\"Par...|               0/0|         1.0| 1133654400|Beware 3rd Party ...|Well, it technica...|\n",
      "|              372|USB Data Cable fo...|      unknown|         5168|             D. Cram|               1/2|         3.0| 1135814400|Undecided on prod...|I currently have ...|\n",
      "|              372|USB Data Cable fo...|      unknown|         6599|\"Jonathan C. Phil...|              6/10|         4.0| 1126915200|  Good cable to have|This is a good ca...|\n",
      "|              372|USB Data Cable fo...|      unknown|         7564|                Cole|               2/4|         1.0| 1149379200|Don't Take the Ch...|If you purchase t...|\n",
      "|              372|USB Data Cable fo...|      unknown|         1886|\"J. Baker \"\"Sunny\"\"\"|               1/3|         5.0| 1134518400|A must have produ...|This cable saves ...|\n",
      "|              521|Motorola HT820 St...|      unknown|         1516|Ivan Arturo Paiz ...|               2/2|         4.0| 1153872000|Great for mp3 pho...|A great device, I...|\n",
      "|              521|Motorola HT820 St...|      unknown|         9118|        J. Tomlinson|               0/0|         5.0| 1345161600|       Gold Standard|I've gone through...|\n",
      "|              521|Motorola HT820 St...|      unknown|         1528|\"John Anetrella \"...|               0/0|         5.0| 1316476800|           Old skewl|Review is a few y...|\n",
      "|              521|Motorola HT820 St...|      unknown|         4654|\"JRod3737 \"\"jrod3...|               5/8|         1.0| 1158624000|       Does not work|According to the ...|\n",
      "|              521|Motorola HT820 St...|      unknown|         9244|             unknown|               1/2|         3.0| 1232150400|IT WONT PAIR WITH...|IT PAIRED WTH MY ...|\n",
      "|              510|                null|      unknown|         5036|Martha Berenice P...|               0/0|         5.0| 1154217600|QUESTIONS ABOUT T...|I would like to b...|\n",
      "|              357|Belkin Executive ...|      unknown|         5145|\"Tim Tuohy \"\"Tp2e\"\"\"|               0/2|         5.0| 1183420800|Cool cover for De...|This leather cove...|\n",
      "|              410|Samsung T809 M620...|         6.75|         1890|            L. Henry|               1/1|         5.0| 1212364800|         Great Buy!!|I thought this it...|\n",
      "+-----------------+--------------------+-------------+-------------+--------------------+------------------+------------+-----------+--------------------+--------------------+\n",
      "only showing top 20 rows\n",
      "\n"
     ]
    }
   ],
   "source": [
    "ratings = spark.read.load('ratings.csv', format='csv', header=True, inferSchema=True)\n",
    "ratings.show()"
   ]
  },
  {
   "cell_type": "markdown",
   "metadata": {},
   "source": [
    "### Data exploration with Spark"
   ]
  },
  {
   "cell_type": "markdown",
   "metadata": {},
   "source": [
    "#### Getting insights from the data with Spark queries"
   ]
  },
  {
   "cell_type": "markdown",
   "metadata": {},
   "source": [
    "**What are the possible ratings?**"
   ]
  },
  {
   "cell_type": "code",
   "execution_count": 7,
   "metadata": {},
   "outputs": [
    {
     "name": "stdout",
     "output_type": "stream",
     "text": [
      "Distinct values of ratings:\n",
      "[' & Books\"\"\"', ' and Roll!\"\"\"', ' etc.\"\"\"', ' gadget guy\"\"\"', '0/0', '1.0', '1/1', '1/2', '1/3', '13/14', '15/16', '2.0', '2/3', '20/21', '3.0', '3/3', '3/4', '4.0', '5.0', '5/5', '5/6', '5/7', '6/7', '6/9', '8/11', '8/8', '9/9']\n"
     ]
    }
   ],
   "source": [
    "print('Distinct values of ratings:')\n",
    "print(sorted(ratings.select('review/score').distinct().rdd.map(lambda r: r[0]).collect()))"
   ]
  },
  {
   "cell_type": "markdown",
   "metadata": {},
   "source": [
    "We can see that with this command we catch some elements that are not ratings. We will drop them and convert the ratings later so that they can be processed."
   ]
  },
  {
   "cell_type": "markdown",
   "metadata": {},
   "source": [
    "**What are the minimum number of ratings per user and minimum number of ratings per product?**"
   ]
  },
  {
   "cell_type": "code",
   "execution_count": 8,
   "metadata": {},
   "outputs": [
    {
     "name": "stdout",
     "output_type": "stream",
     "text": [
      "For the users that rated products and the products that were rated:\n",
      "Minimum number of ratings per user is 1\n",
      "Minimum number of ratings per product is 1\n"
     ]
    }
   ],
   "source": [
    "tmp1 = ratings.groupBy(\"review/userid\").count().toPandas()['count'].min()\n",
    "tmp2 = ratings.groupBy(\"product/title\").count().toPandas()['count'].min()\n",
    "print('For the users that rated products and the products that were rated:')\n",
    "print('Minimum number of ratings per user is {}'.format(tmp1))\n",
    "print('Minimum number of ratings per product is {}'.format(tmp2))"
   ]
  },
  {
   "cell_type": "markdown",
   "metadata": {},
   "source": [
    "We can observe that there are no unrated products in this dataset. In a real-life context, the recommender system would have to regularly adapt to new data, for example a new product added online, with no ratings yet, or a new user profile - this is known as the cold start problem. In the paper, their strategy for such cases is to use metadata for recommendations rather than explicit feedback (ratings) or implicit feedback (actions on website), and to update the model once they have more data."
   ]
  },
  {
   "cell_type": "markdown",
   "metadata": {},
   "source": [
    "**What is the total number of users in the data set?**"
   ]
  },
  {
   "cell_type": "code",
   "execution_count": 9,
   "metadata": {},
   "outputs": [
    {
     "name": "stdout",
     "output_type": "stream",
     "text": [
      "We have a total of 9245 distinct users in the data set\n"
     ]
    }
   ],
   "source": [
    "tmp3 = ratings.select('review/userid').distinct().count()\n",
    "print('We have a total of {} distinct users in the data set'.format(tmp3))"
   ]
  },
  {
   "cell_type": "markdown",
   "metadata": {},
   "source": [
    "**What is the total number of products in the data set?**"
   ]
  },
  {
   "cell_type": "code",
   "execution_count": 10,
   "metadata": {},
   "outputs": [
    {
     "name": "stdout",
     "output_type": "stream",
     "text": [
      "We have a total of 976 distinct products in the data set\n"
     ]
    }
   ],
   "source": [
    "tmp4 = ratings.select('product/productid').distinct().count()\n",
    "print('We have a total of {} distinct products in the data set'.format(tmp4))"
   ]
  },
  {
   "cell_type": "markdown",
   "metadata": {},
   "source": [
    "**What are the products with the most ratings and the users that rated the most products?**"
   ]
  },
  {
   "cell_type": "code",
   "execution_count": 11,
   "metadata": {
    "scrolled": true
   },
   "outputs": [
    {
     "name": "stdout",
     "output_type": "stream",
     "text": [
      "List of products that have the most ratings: \n",
      "+-----------------+--------------------+-----------------+\n",
      "|product/productid|       product/title|number of ratings|\n",
      "+-----------------+--------------------+-----------------+\n",
      "|              169|Sony Ericsson T61...|              501|\n",
      "|              466|Monster RadioPlay...|              410|\n",
      "|              315|Motorola H500 Blu...|              409|\n",
      "|              335|Motorola Lithium-...|              286|\n",
      "|              392|Jabra BT500 Bluet...|              251|\n",
      "|               82|Jabra EarGels - C...|              216|\n",
      "|              389|Jabra C250 EarWav...|              214|\n",
      "|              617|Plantronics Explo...|              186|\n",
      "|              253|Motorola V600 Pho...|              160|\n",
      "|              622|Cardo Systems Sca...|              155|\n",
      "+-----------------+--------------------+-----------------+\n",
      "only showing top 10 rows\n",
      "\n"
     ]
    }
   ],
   "source": [
    "# We create a temp SQL table view for easier query:\n",
    "ratings.createOrReplaceTempView(\"ratings\")\n",
    "print('List of products that have the most ratings: ')\n",
    "\n",
    "# Most rated items\n",
    "spark.sql(\n",
    "    \"SELECT `product/productid`, `product/title`, count(`product/title`) as `number of ratings`\"\n",
    "    \"FROM ratings \"\n",
    "    \"GROUP BY 1, 2 ORDER BY 3 desc\"\n",
    ").show(10)"
   ]
  },
  {
   "cell_type": "code",
   "execution_count": 12,
   "metadata": {},
   "outputs": [
    {
     "name": "stdout",
     "output_type": "stream",
     "text": [
      "List of users that rated the most products\n",
      "+-------------+---------------------+\n",
      "|review/userId|number of items rated|\n",
      "+-------------+---------------------+\n",
      "|         9244|                  501|\n",
      "|         1889|                    6|\n",
      "|         1906|                    5|\n",
      "|         7221|                    5|\n",
      "|         8931|                    4|\n",
      "|         7148|                    4|\n",
      "|         8995|                    4|\n",
      "|         8467|                    4|\n",
      "|         4510|                    4|\n",
      "|         6779|                    4|\n",
      "+-------------+---------------------+\n",
      "only showing top 10 rows\n",
      "\n"
     ]
    }
   ],
   "source": [
    "# Users that rated the most products\n",
    "print('List of users that rated the most products')\n",
    "spark.sql(\n",
    "    \"SELECT `review/userId`, count(`review/userId`) as `number of items rated`\"\n",
    "    \"FROM ratings \"\n",
    "    \"GROUP BY 1 ORDER BY 2 desc\"\n",
    ").show(10)"
   ]
  },
  {
   "cell_type": "markdown",
   "metadata": {},
   "source": [
    "#### Extracting rating data as an RDD for further analysis"
   ]
  },
  {
   "cell_type": "code",
   "execution_count": 13,
   "metadata": {},
   "outputs": [],
   "source": [
    "# File location and type\n",
    "file_location = \"ratings.csv\"\n",
    "file_type = \"csv\"\n",
    "\n",
    "# CSV options\n",
    "infer_schema = \"false\"\n",
    "first_row_is_header = \"false\"\n",
    "delimiter = \",\"\n",
    "\n",
    "# The applied options are for CSV files. For other file types, these will be ignored.\n",
    "df = spark.read.format(file_type) \\\n",
    "  .option(\"inferSchema\", infer_schema) \\\n",
    "  .option(\"header\", first_row_is_header) \\\n",
    "  .option(\"sep\", delimiter) \\\n",
    "  .load(file_location)\n",
    "\n",
    "rating_data = df.rdd\n",
    "\n",
    "header = rating_data.take(1)[0]\n",
    "\n",
    "rating_data = rating_data \\\n",
    "    .filter(lambda line: line!=header) \\\n",
    "    .map(lambda x: list(x))\\\n",
    "    .map(lambda x: (int(x[3]), int(x[0]), x[6].split('/')[0])) \\\n",
    "    .filter(lambda x: x[2]!=' and Roll!\"\"\"') \\\n",
    "    .filter(lambda x: x[2]!=' & Books\"\"\"') \\\n",
    "    .filter(lambda x: x[2]!=' etc.\"\"\"') \\\n",
    "    .filter(lambda x: x[2]!=' gadget guy\"\"\"') \\\n",
    "    .map(lambda x: (x[0], x[1], float(x[2])))\\\n",
    "    .cache()"
   ]
  },
  {
   "cell_type": "markdown",
   "metadata": {},
   "source": [
    "## Our implemention of the ALS matrix factorization algorithm in Spark"
   ]
  },
  {
   "cell_type": "markdown",
   "metadata": {},
   "source": [
    "First let's write useful functions for ALS:"
   ]
  },
  {
   "cell_type": "code",
   "execution_count": 15,
   "metadata": {
    "code_folding": []
   },
   "outputs": [],
   "source": [
    "def set_data_matrix(M, data_list):\n",
    "    for data in data_list:\n",
    "        M[data[0], data[1]] = data[2]\n",
    "    return M\n",
    "\n",
    "def update(i, mat, ratings): # i = x, mat = V if caculate U, rating is M.\n",
    "    uu = mat.shape[0]\n",
    "    ff = mat.shape[1]\n",
    "\n",
    "    XtX = mat.T * mat # projection matrix\n",
    "    Xty = mat.T * ratings[i, :].T\n",
    "\n",
    "    for j in range(ff):\n",
    "        XtX[j, j] += LAMBDA * uu\n",
    "\n",
    "    return np.linalg.solve(XtX, Xty)\n",
    "\n",
    "def rmse(R, ms, us):\n",
    "    diff = R - ms * us.T\n",
    "    return np.sqrt(np.sum(np.power(diff, 2)) / (M * U)\n",
    "                  )"
   ]
  },
  {
   "cell_type": "markdown",
   "metadata": {},
   "source": [
    "Then let's initialize matrices and parameters for the algorithm:"
   ]
  },
  {
   "cell_type": "code",
   "execution_count": 16,
   "metadata": {},
   "outputs": [],
   "source": [
    "# re-init spark\n",
    "spark = SparkSession\\\n",
    "        .builder\\\n",
    "        .appName(\"PythonALS\")\\\n",
    "        .getOrCreate()\n",
    "\n",
    "sc = spark.sparkContext"
   ]
  },
  {
   "cell_type": "code",
   "execution_count": 17,
   "metadata": {},
   "outputs": [],
   "source": [
    "rating_list = rating_data.collect()\n",
    "\n",
    "LAMBDA = 0.01   # regularization\n",
    "\n",
    "U = len(pd.read_csv('ratings.csv')['product/productId'].unique()) # nb of items\n",
    "M = len(pd.read_csv('ratings.csv')['review/userId'].unique()) # nb of users\n",
    "F = 8 # latent vector    \n",
    "num_iters = 10\n",
    "partitions = 2\n",
    "\n",
    "R = np.full((M, U), 0, dtype=np.float64)\n",
    "R = matrix(set_data_matrix(R, rating_list)) # M\n",
    "\n",
    "users = matrix(np.full((M, F), 1.0)) # U users matrix\n",
    "product = matrix(np.full((U, F), 1.0)) # V product matrix\n",
    "\n",
    "Rb = sc.broadcast(R)\n",
    "users_b = sc.broadcast(users)\n",
    "product_b = sc.broadcast(product)"
   ]
  },
  {
   "cell_type": "markdown",
   "metadata": {},
   "source": [
    "And now let's run the algorithm itself:"
   ]
  },
  {
   "cell_type": "code",
   "execution_count": 18,
   "metadata": {},
   "outputs": [
    {
     "name": "stdout",
     "output_type": "stream",
     "text": [
      "R = [[0. 0. 0. ... 0. 0. 0.]\n",
      " [0. 0. 0. ... 0. 0. 0.]\n",
      " [0. 0. 0. ... 0. 0. 0.]\n",
      " ...\n",
      " [0. 0. 0. ... 0. 0. 0.]\n",
      " [0. 0. 0. ... 0. 0. 0.]\n",
      " [4. 2. 5. ... 0. 0. 0.]]\n",
      "\n",
      "ms = [[2.25425806e-14 2.25425806e-14 2.25425806e-14 ... 2.25425806e-14\n",
      "  2.25425806e-14 2.25425806e-14]\n",
      " [1.27787654e-02 1.27787654e-02 1.27787654e-02 ... 1.27787654e-02\n",
      "  1.27787654e-02 1.27787654e-02]\n",
      " [2.29777572e-03 2.29777572e-03 2.29777572e-03 ... 2.29777572e-03\n",
      "  2.29777572e-03 2.29777572e-03]\n",
      " ...\n",
      " [4.59555144e-04 4.59555144e-04 4.59555144e-04 ... 4.59555144e-04\n",
      "  4.59555144e-04 4.59555144e-04]\n",
      " [1.13630378e-03 1.13630378e-03 1.13630378e-03 ... 1.13630378e-03\n",
      "  1.13630378e-03 1.13630378e-03]\n",
      " [4.22484105e-01 4.22484105e-01 4.22484105e-01 ... 4.22484105e-01\n",
      "  4.22484105e-01 4.22484105e-01]]\n",
      "\n",
      "us = [[6.99674285e-03 6.99674285e-03 6.99674285e-03 ... 6.99674285e-03\n",
      "  6.99674285e-03 6.99674285e-03]\n",
      " [3.57073218e-03 3.57073218e-03 3.57073218e-03 ... 3.57073218e-03\n",
      "  3.57073218e-03 3.57073218e-03]\n",
      " [8.76647815e-03 8.76647815e-03 8.76647815e-03 ... 8.76647815e-03\n",
      "  8.76647815e-03 8.76647815e-03]\n",
      " ...\n",
      " [2.84053749e-18 2.84053749e-18 2.84053749e-18 ... 2.84053749e-18\n",
      "  2.84053749e-18 2.84053749e-18]\n",
      " [1.02440265e-35 1.02440265e-35 1.02440265e-35 ... 1.02440265e-35\n",
      "  1.02440265e-35 1.02440265e-35]\n",
      " [9.54049315e-25 9.54049315e-25 9.54049317e-25 ... 9.54049316e-25\n",
      "  9.54049317e-25 9.54049316e-25]]\n",
      "\n",
      "RMSE = 0.1216\n"
     ]
    }
   ],
   "source": [
    "for i in range(num_iters):\n",
    "    users = sc.parallelize(range(M), partitions) \\\n",
    "           .map(lambda x: update(x, product_b.value, Rb.value)) \\\n",
    "           .collect() # U, x = row number\n",
    "    # collect() returns a list, so array ends up being\n",
    "    # a 3-d array, and we take the first 2 dims for the matrix\n",
    "    users = matrix(np.array(users)[:, :, 0]) # U\n",
    "    users_b = sc.broadcast(users)\n",
    "\n",
    "    product = sc.parallelize(range(U), partitions) \\\n",
    "           .map(lambda x: update(x, users_b.value, Rb.value.T)) \\\n",
    "           .collect() # V, x = columns\n",
    "    product = matrix(np.array(product)[:, :, 0])\n",
    "    product_b = sc.broadcast(product)\n",
    "\n",
    "    error = rmse(R, users, product)\n",
    "\n",
    "#print(\"Iteration %d:\" % i)\n",
    "print(\"R = %s\\n\" % (str(R))) \n",
    "print(\"ms = %s\\n\" % (str(users)))   \n",
    "print(\"us = %s\\n\" % (str(product)))           \n",
    "#print(\"\\nRMSE: %5.4f\\n\" % error)\n",
    "print(\"RMSE = %.4f\" % error)"
   ]
  },
  {
   "cell_type": "markdown",
   "metadata": {},
   "source": [
    "##  Our implemention of the eALS algorithm for fast matrix factorization in Spark"
   ]
  },
  {
   "cell_type": "markdown",
   "metadata": {},
   "source": [
    "Again, let's write the fuctions useful for eALS matric factorization. Pseudo-code (Java-like) was found in the paper mentionned in introduction to this project, and we adapt it here for Spark."
   ]
  },
  {
   "cell_type": "code",
   "execution_count": 19,
   "metadata": {},
   "outputs": [],
   "source": [
    "def set_data_matrix(M, data_list):\n",
    "    for data in data_list:\n",
    "        M[data[0], data[1]] = data[2]\n",
    "    return M"
   ]
  },
  {
   "cell_type": "code",
   "execution_count": 28,
   "metadata": {},
   "outputs": [],
   "source": [
    "def update_user(u, Uu, V, Ru, SU, SV, Wu, Wi):\n",
    "    itemList = nb_items\n",
    "    SU_bis = SU.value\n",
    "    SV_bis = SV.value\n",
    "\n",
    "    # prediction cache for the user\n",
    "    for i in range(itemList):\n",
    "        prediction_items[i] = Uu@V[i];\n",
    "        rating_items[i] = Ru[i];\n",
    "        w_items[i] = Wu[i]\n",
    "\n",
    "    oldVector = Ru\n",
    "    for f in range(factors):\n",
    "        numer = 0\n",
    "        denom = 0\n",
    "        \n",
    "        #O(K) complexity for the negative part\n",
    "        for k in range(factors):\n",
    "            if k != f:\n",
    "                numer -= Uu[ k] * SV_bis[f][k]\n",
    "        \n",
    "        #O(Nu) complexity for the positive part\n",
    "        for i in range(itemList):\n",
    "            prediction_items[i] -= Uu[f] * V[i][f]\n",
    "            numer +=  (w_items[i]*rating_items[i] - (w_items[i]-Wi[i]) * prediction_items[i]) * V[i][f]\n",
    "            denom += (w_items[i]-Wi[i]) * V[i][f] * V[i][f]\n",
    "        denom += SV_bis[f][f] + reg;\n",
    "\n",
    "        #Parameter Update\n",
    "        Uu[f] = numer / denom\n",
    "\n",
    "        #Update the prediction cache\n",
    "        for i in range(itemList):\n",
    "            prediction_items[i] += Uu[f] * V[i][f]\n",
    "\n",
    "    #Update the SU cache\n",
    "    for f in range(factors):\n",
    "        for k in range(factors):\n",
    "            val = SU_bis[f][k] - oldVector[f] * oldVector[k] + Uu[f] * Uu[k]\n",
    "            SU_bis[f][k] = val\n",
    "            SU_bis[k][f] = val\n",
    "    #SU = sc.broadcast(SU_bis)\n",
    "    return Uu"
   ]
  },
  {
   "cell_type": "code",
   "execution_count": 48,
   "metadata": {},
   "outputs": [],
   "source": [
    "def update_item(i, Vi, U, R_i, SU, SV, W_i, Wi):#W_i = W[i] #R_i = R[:][i]\n",
    "    userList = nb_users\n",
    "    SU_bis = SU.value\n",
    "    SV_bis = SV.value\n",
    "\n",
    "    # prediction cache for the user\n",
    "    for u in range(userList):\n",
    "        prediction_users[u] = U[u]@Vi\n",
    "        rating_users[u] = R_i[u]\n",
    "        w_users[u] = W_i[u]\n",
    "\n",
    "    oldVector = R_i\n",
    "    for f in range(factors):\n",
    "        numer = 0\n",
    "        denom = 0\n",
    "        \n",
    "        #O(K) complexity for the negative part\n",
    "        for k in range(factors):\n",
    "            if k != f:\n",
    "                numer -= Vi[k] * SU_bis[f][k]\n",
    "        \n",
    "\n",
    "        #O(Nu) complexity for the positive part\n",
    "        for u in range(userList):\n",
    "            prediction_users[u] -= U[u][f] * Vi[f]\n",
    "            numer +=  (w_users[u]*rating_users[u] - (w_users[i]-Wi[i]) * prediction_users[u]) * U[u][f]\n",
    "            denom += (w_users[i]-Wi[i]) * U[u][f] * U[u][f]\n",
    "        denom += SU_bis[f][f] + reg;\n",
    "\n",
    "        #Parameter Update\n",
    "        V[i][f] = numer / denom\n",
    "\n",
    "        #Update the prediction cache\n",
    "        for u in range(userList):\n",
    "            prediction_users[u] += U[u][f] * Vi[f]\n",
    "\n",
    "    #Update the SV cache\n",
    "    for f in range(factors):\n",
    "        for k in range(factors):\n",
    "            val = SV_bis[f][k] - oldVector[f] * oldVector[k] * Wi[i] + Vi[f]*Vi[k]*Wi[i]\n",
    "            SV_bis[f][k] = val\n",
    "            SV_bis[k][f]= val\n",
    "    #SV = sc.broadcast(SV_bis)\n",
    "        \n",
    "    return Vi"
   ]
  },
  {
   "cell_type": "markdown",
   "metadata": {},
   "source": [
    "Then let's initialize the matrices and parameters we will need to run eALS:"
   ]
  },
  {
   "cell_type": "code",
   "execution_count": 49,
   "metadata": {},
   "outputs": [],
   "source": [
    "#re-init spark\n",
    "spark = SparkSession\\\n",
    "        .builder\\\n",
    "        .appName(\"Python_eALS\")\\\n",
    "        .getOrCreate()\n",
    "\n",
    "sc = spark.sparkContext"
   ]
  },
  {
   "cell_type": "code",
   "execution_count": 50,
   "metadata": {},
   "outputs": [],
   "source": [
    "rating_list = rating_data.collect()\n",
    "\n",
    "# Set model priors\n",
    "partitions = 10\n",
    "factors = 10 # number of latent factors\n",
    "maxIter = 20 #maximum iterations\n",
    "reg = 0.01 #regularization parameters\n",
    "init_mean = 0;  # Gaussian mean for init V\n",
    "init_stdev = 0.01 #Gaussian std-dev for init V\n",
    "nb_items = len(pd.read_csv('ratings.csv')['product/productId'].unique()) # items\n",
    "nb_users = len(pd.read_csv('ratings.csv')['review/userId'].unique()) # users\n",
    "\n",
    "R = np.full((nb_users, nb_items), 0, dtype=np.float64)\n",
    "R = matrix(set_data_matrix(R, rating_list)) # M\n",
    "R = np.array(R)"
   ]
  },
  {
   "cell_type": "code",
   "execution_count": 51,
   "metadata": {},
   "outputs": [],
   "source": [
    "\"\"\"\n",
    "This cell assigns weights to implicit data (i.e. negative feedback),\n",
    "with a weighting strategy based on item popularity and further described in the paper.\n",
    "\"\"\"\n",
    "\n",
    "# Set the Wi as a decay function w0 * pi ^ alpha\n",
    "w0 = 1\n",
    "s = 0 \n",
    "Z = 0\n",
    "alpha = 1\n",
    "p = [0 for i in range(nb_items)]\n",
    "\n",
    "for i in range(nb_items):\n",
    "    p[i] = sum(R[0]!=0) # Nb of items per user\n",
    "    s += p[i]\n",
    "# convert p[i] to probability \n",
    "for i in range(nb_items):\n",
    "    p[i] = p[i]/s;\n",
    "   # p[i] = p[i]**alpha;\n",
    "    Z += p[i];\n",
    "# Assign weight\n",
    "Wi = [0 for i in range(nb_items)];\n",
    "for i in range(nb_items):\n",
    "    Wi[i] = w0 * p[i] / Z;\n",
    "# By default, the weight for positive instances is uniformly 1.\n",
    "W = np.full((nb_users, nb_items), 0, dtype=np.float64)\n",
    "for u in range(nb_users):\n",
    "    for i in R[u]:\n",
    "        W[u][int(i)]= 1 "
   ]
  },
  {
   "cell_type": "code",
   "execution_count": 52,
   "metadata": {},
   "outputs": [],
   "source": [
    "# Init caches\n",
    "prediction_users = [0 for i in range(nb_users)];\n",
    "prediction_items = [0 for i in range(nb_items)];\n",
    "rating_users = [0 for i in range(nb_users)];\n",
    "rating_items = [0 for i in range(nb_items)];\n",
    "w_users = [0 for i in range(nb_users)];\n",
    "w_items = [0 for i in range(nb_items)];\n",
    "\n",
    "# Init model parameters\n",
    "users = np.random.normal(init_mean, init_stdev, \n",
    "                         nb_users*factors).reshape((nb_users,factors)) # latent vectors for users\n",
    "product = np.random.normal(init_mean, init_stdev, \n",
    "                           nb_items*factors).reshape((nb_items, factors)) # latent vectors for items\n",
    "SU = users.T@users\n",
    "SV = np.full((factors, factors), 0, dtype=np.float64)\n",
    "\n",
    "for f in range(factors):\n",
    "    for k in range(factors):\n",
    "        val = 0;\n",
    "        for i in range(nb_items):\n",
    "            val += product[i][f] * product[i][k]* Wi[i]\n",
    "        SV[f][k] = val\n",
    "        SV[k][f] = val\n",
    "\n",
    "user_b = users\n",
    "product_b = product\n",
    "Rb = R\n",
    "SU = sc.broadcast(SU)\n",
    "SV = sc.broadcast(SV)"
   ]
  },
  {
   "cell_type": "markdown",
   "metadata": {},
   "source": [
    "Finally, let's run the eALS algorithm:"
   ]
  },
  {
   "cell_type": "code",
   "execution_count": null,
   "metadata": {},
   "outputs": [],
   "source": [
    "for v in range(maxIter):\n",
    "    users = sc.parallelize(range(nb_users), partitions) \\\n",
    "               .map(lambda u: update_user(u, user_b[u], product_b, Rb[u], SU, SV, W[u], Wi)) \\\n",
    "               .collect() #u user id, \n",
    "    users_b = users\n",
    "    print('ok')\n",
    "    product = sc.parallelize(range(nb_items), partitions) \\\n",
    "               .map(lambda i: update_item(i, product_b[i], user_b, Rb[:][i], SU, SV, W[i], Wi)) \\\n",
    "               .collect() #V, x = columns\n",
    "    product_b = product    "
   ]
  },
  {
   "cell_type": "markdown",
   "metadata": {},
   "source": [
    "### RMSE"
   ]
  },
  {
   "cell_type": "code",
   "execution_count": 49,
   "metadata": {
    "scrolled": true
   },
   "outputs": [
    {
     "data": {
      "text/plain": [
       "0.12399402466204804"
      ]
     },
     "execution_count": 49,
     "metadata": {},
     "output_type": "execute_result"
    }
   ],
   "source": [
    "def rmse_bis(R, ms, us):\n",
    "    diff = R - ms@us.T\n",
    "    return np.sqrt(np.sum(np.power(diff, 2)) / (nb_users * nb_items))\n",
    "                   \n",
    "rmse_bis(R, np.matrix(users), np.matrix(product))"
   ]
  },
  {
   "cell_type": "markdown",
   "metadata": {},
   "source": [
    "We can observe that RMSE is roughly the same as with regular ALS, but an advantage of eALS is faster computation. Here, we run the algorithm locally, so computation duration is biased - but as per findings of the paper, eALS should be significantly faster than regular ALS when computing over a distributed cluster."
   ]
  },
  {
   "cell_type": "markdown",
   "metadata": {},
   "source": [
    "## Recommender system using the existing ALS implementation in PySpark"
   ]
  },
  {
   "cell_type": "markdown",
   "metadata": {},
   "source": [
    "### Recommender system with existing PySpark ALS"
   ]
  },
  {
   "cell_type": "code",
   "execution_count": 11,
   "metadata": {},
   "outputs": [
    {
     "name": "stdout",
     "output_type": "stream",
     "text": [
      "Root-mean-square error = 3.559577899838846\n"
     ]
    }
   ],
   "source": [
    "ratings = spark.createDataFrame(rating_data)\n",
    "(train, test) = ratings.randomSplit([0.8, 0.2]) # train-test split\n",
    "\n",
    "# Build the recommendation model using ALS on the training data\n",
    "# Note that we set cold start strategy to 'drop' to ensure we don't get NaN evaluation metrics\n",
    "als = ALS(maxIter=5, regParam=0.01, userCol=\"_1\", itemCol=\"_2\", ratingCol=\"_3\",\n",
    "          coldStartStrategy=\"drop\")\n",
    "model = als.fit(train)\n",
    "\n",
    "# Evaluate the model by computing RMSE on the test data\n",
    "predictions = model.transform(test)\n",
    "evaluator = RegressionEvaluator(metricName=\"rmse\", labelCol=\"_3\",\n",
    "                                predictionCol=\"prediction\")\n",
    "rmse = evaluator.evaluate(predictions)\n",
    "print(\"Root-mean-square error = \" + str(rmse))"
   ]
  },
  {
   "cell_type": "markdown",
   "metadata": {},
   "source": [
    "### Generate top 10 product recommendations for each user"
   ]
  },
  {
   "cell_type": "code",
   "execution_count": 134,
   "metadata": {},
   "outputs": [],
   "source": [
    "userRecs = model.recommendForAllUsers(10) # Compute recommendations for all users\n",
    "reco = userRecs.take(1) # Take 1 user"
   ]
  },
  {
   "cell_type": "code",
   "execution_count": 136,
   "metadata": {},
   "outputs": [
    {
     "data": {
      "text/html": [
       "<div>\n",
       "<style scoped>\n",
       "    .dataframe tbody tr th:only-of-type {\n",
       "        vertical-align: middle;\n",
       "    }\n",
       "\n",
       "    .dataframe tbody tr th {\n",
       "        vertical-align: top;\n",
       "    }\n",
       "\n",
       "    .dataframe thead th {\n",
       "        text-align: right;\n",
       "    }\n",
       "</style>\n",
       "<table border=\"1\" class=\"dataframe\">\n",
       "  <thead>\n",
       "    <tr style=\"text-align: right;\">\n",
       "      <th></th>\n",
       "      <th>product/productId</th>\n",
       "      <th>product/title</th>\n",
       "      <th>product/price</th>\n",
       "      <th>review/userId</th>\n",
       "      <th>review/profileName</th>\n",
       "      <th>review/helpfulness</th>\n",
       "      <th>review/score</th>\n",
       "      <th>review/time</th>\n",
       "      <th>review/summary</th>\n",
       "      <th>review/text</th>\n",
       "    </tr>\n",
       "  </thead>\n",
       "  <tbody>\n",
       "    <tr>\n",
       "      <th>8167</th>\n",
       "      <td>346</td>\n",
       "      <td>Palm Treo 650 PDA Phone (AT&amp;T)</td>\n",
       "      <td>unknown</td>\n",
       "      <td>1580</td>\n",
       "      <td>D. M. Kimura \"dmk\"</td>\n",
       "      <td>11/13</td>\n",
       "      <td>3.0</td>\n",
       "      <td>1110758400</td>\n",
       "      <td>If you have the TREO 600, DON'T UPGRADE</td>\n",
       "      <td>I have retired the 4th Treo 600 due to device ...</td>\n",
       "    </tr>\n",
       "  </tbody>\n",
       "</table>\n",
       "</div>"
      ],
      "text/plain": [
       "      product/productId                   product/title product/price  \\\n",
       "8167                346  Palm Treo 650 PDA Phone (AT&T)       unknown   \n",
       "\n",
       "      review/userId  review/profileName review/helpfulness  review/score  \\\n",
       "8167           1580  D. M. Kimura \"dmk\"              11/13           3.0   \n",
       "\n",
       "      review/time                           review/summary  \\\n",
       "8167   1110758400  If you have the TREO 600, DON'T UPGRADE   \n",
       "\n",
       "                                            review/text  \n",
       "8167  I have retired the 4th Treo 600 due to device ...  "
      ]
     },
     "execution_count": 136,
     "metadata": {},
     "output_type": "execute_result"
    }
   ],
   "source": [
    "data.loc[data['review/userId']==1580]"
   ]
  },
  {
   "cell_type": "code",
   "execution_count": 137,
   "metadata": {},
   "outputs": [
    {
     "data": {
      "text/html": [
       "<div>\n",
       "<style scoped>\n",
       "    .dataframe tbody tr th:only-of-type {\n",
       "        vertical-align: middle;\n",
       "    }\n",
       "\n",
       "    .dataframe tbody tr th {\n",
       "        vertical-align: top;\n",
       "    }\n",
       "\n",
       "    .dataframe thead th {\n",
       "        text-align: right;\n",
       "    }\n",
       "</style>\n",
       "<table border=\"1\" class=\"dataframe\">\n",
       "  <thead>\n",
       "    <tr style=\"text-align: right;\">\n",
       "      <th></th>\n",
       "      <th></th>\n",
       "      <th>predicted rate</th>\n",
       "    </tr>\n",
       "    <tr>\n",
       "      <th>product/title</th>\n",
       "      <th>product/productId</th>\n",
       "      <th></th>\n",
       "    </tr>\n",
       "  </thead>\n",
       "  <tbody>\n",
       "    <tr>\n",
       "      <th>BlackBerry Folding Blade USB Charger</th>\n",
       "      <th>492</th>\n",
       "      <td>4.076923</td>\n",
       "    </tr>\n",
       "    <tr>\n",
       "      <th>HTC S710 Vox Unlocked Smartphone with Windows Mobile 6.0, 2 MP Camera, Wi-Fi, MP3/Video Player, MicroSD Slot--U.S. Version with Warranty (Black/Silver)</th>\n",
       "      <th>968</th>\n",
       "      <td>3.900000</td>\n",
       "    </tr>\n",
       "    <tr>\n",
       "      <th>LG Verizon Chocolate VX8500 / VX8600 / KG90 / KG800 / KG808 / MG800C / ENV VX9900 / LX150 OEM Original Rapid Vehicle Cigarette Lighter Car Charger with IC Chip (SGCC0002911)</th>\n",
       "      <th>716</th>\n",
       "      <td>4.583333</td>\n",
       "    </tr>\n",
       "    <tr>\n",
       "      <th>Motorola H500 Bluetooth Headset (Pumpkin Orange) [Motorola Retail Packaging]</th>\n",
       "      <th>739</th>\n",
       "      <td>3.444444</td>\n",
       "    </tr>\n",
       "    <tr>\n",
       "      <th>Nokia Headset with Answer,End Remote Button for Nokia 3650, 8200, 8800, 3300</th>\n",
       "      <th>50</th>\n",
       "      <td>3.695652</td>\n",
       "    </tr>\n",
       "    <tr>\n",
       "      <th>Premium Scratch Resistant Screen Protector/ Guard for LG Chocolate VX8500, 2-LCD kit w/ Cleansing Cloth</th>\n",
       "      <th>766</th>\n",
       "      <td>3.260870</td>\n",
       "    </tr>\n",
       "    <tr>\n",
       "      <th>Replacement Lithium-ion Battery for Samsung E315/316/317</th>\n",
       "      <th>282</th>\n",
       "      <td>5.000000</td>\n",
       "    </tr>\n",
       "    <tr>\n",
       "      <th>SAMSUNG OEM BST524ASA BATTERY SCH-X909 SGH-T209 SGH-X495 SGH-X496 SGH-X497</th>\n",
       "      <th>289</th>\n",
       "      <td>4.181818</td>\n",
       "    </tr>\n",
       "    <tr>\n",
       "      <th>Sanyo RL2500 PCS Vision Ready Link Phone (Sprint)</th>\n",
       "      <th>222</th>\n",
       "      <td>4.200000</td>\n",
       "    </tr>\n",
       "    <tr>\n",
       "      <th>Ultra-Slim Screen Protector (15pcs) for Blackberry Curve 8300</th>\n",
       "      <th>971</th>\n",
       "      <td>3.750000</td>\n",
       "    </tr>\n",
       "  </tbody>\n",
       "</table>\n",
       "</div>"
      ],
      "text/plain": [
       "                                                                      predicted rate\n",
       "product/title                                      product/productId                \n",
       "BlackBerry Folding Blade USB Charger               492                      4.076923\n",
       "HTC S710 Vox Unlocked Smartphone with Windows M... 968                      3.900000\n",
       "LG Verizon Chocolate VX8500 / VX8600 / KG90 / K... 716                      4.583333\n",
       "Motorola H500 Bluetooth Headset (Pumpkin Orange... 739                      3.444444\n",
       "Nokia Headset with Answer,End Remote Button for... 50                       3.695652\n",
       "Premium Scratch Resistant Screen Protector/ Gua... 766                      3.260870\n",
       "Replacement Lithium-ion Battery for Samsung E31... 282                      5.000000\n",
       "SAMSUNG OEM BST524ASA BATTERY SCH-X909 SGH-T209... 289                      4.181818\n",
       "Sanyo RL2500 PCS Vision Ready Link Phone (Sprint)  222                      4.200000\n",
       "Ultra-Slim Screen Protector (15pcs) for Blackbe... 971                      3.750000"
      ]
     },
     "execution_count": 137,
     "metadata": {},
     "output_type": "execute_result"
    }
   ],
   "source": [
    "# Print top 10 recommendations for this user as a DataFrame\n",
    "\n",
    "list_reco = str(reco[0]).split('Row(_2=')\n",
    "reco_id = [int(list_reco[i].strip().replace('),', '').split(', rating=')[0]) for i in range(1, len(list_reco))]\n",
    "reco_data = pd.DataFrame()\n",
    "\n",
    "for item_id in range(len(reco_id)):\n",
    "    reco_data = reco_data.append(data.loc[data['product/productId'] == reco_id[item_id]])\n",
    "\n",
    "reco_data.groupby(['product/title', 'product/productId']).mean().drop(['review/userId', 'review/time'], \n",
    "                                            axis = 1 ).rename(columns={'review/score':'predicted rate'})"
   ]
  },
  {
   "cell_type": "markdown",
   "metadata": {},
   "source": [
    "### ALS model evaluation and selection (grid search)"
   ]
  },
  {
   "cell_type": "markdown",
   "metadata": {},
   "source": [
    "In the next cells, we write and run a grid search function to determine the best ALS matrix factorization model. The parameters we test are the number of latent factors and the regularization coefficient."
   ]
  },
  {
   "cell_type": "code",
   "execution_count": 26,
   "metadata": {},
   "outputs": [],
   "source": [
    "def train_ALS(train_data, validation_data, num_iters, reg_param, ranks):\n",
    "    \"\"\"\n",
    "    Grid Search Function to select the best model based on RMSE of hold-out data\n",
    "    \"\"\"\n",
    "    # initial\n",
    "    min_error = float('inf')\n",
    "    best_rank = -1\n",
    "    best_regularization = 0\n",
    "    best_model = None\n",
    "    for rank in ranks:\n",
    "        for reg in reg_param:\n",
    "            # train ALS model\n",
    "            als = ALS(maxIter=num_iters, regParam=reg, userCol=\"_1\", itemCol=\"_2\", ratingCol=\"_3\", \n",
    "                      coldStartStrategy=\"drop\")\n",
    "            model = als.fit(train)\n",
    "            # make prediction\n",
    "            predictions = model.transform(test)\n",
    "            evaluator = RegressionEvaluator(metricName=\"rmse\", labelCol=\"_3\",\n",
    "                                            predictionCol=\"prediction\")\n",
    "            rmse = evaluator.evaluate(predictions)\n",
    "            print('{} latent factors and regularization = {}: validation RMSE is {}'.format(rank, reg, rmse))\n",
    "            if rmse < min_error:\n",
    "                min_error = rmse\n",
    "                best_rank = rank\n",
    "                best_regularization = reg\n",
    "                best_model = model\n",
    "    print('\\nThe best model has {} latent factors and regularization = {}'.format(best_rank, best_regularization))\n",
    "    return best_model"
   ]
  },
  {
   "cell_type": "code",
   "execution_count": 27,
   "metadata": {},
   "outputs": [
    {
     "name": "stdout",
     "output_type": "stream",
     "text": [
      "8 latent factors and regularization = 0.001: validation RMSE is 3.3331102801915704\n",
      "8 latent factors and regularization = 0.01: validation RMSE is 2.9467707735746833\n",
      "8 latent factors and regularization = 0.05: validation RMSE is 2.816589387154773\n",
      "8 latent factors and regularization = 0.1: validation RMSE is 2.7352330477000217\n",
      "8 latent factors and regularization = 0.2: validation RMSE is 2.6822093319222815\n",
      "10 latent factors and regularization = 0.001: validation RMSE is 3.3331102801915704\n",
      "10 latent factors and regularization = 0.01: validation RMSE is 2.9467707735746833\n",
      "10 latent factors and regularization = 0.05: validation RMSE is 2.816589387154773\n",
      "10 latent factors and regularization = 0.1: validation RMSE is 2.7352330477000217\n",
      "10 latent factors and regularization = 0.2: validation RMSE is 2.6822093319222815\n",
      "12 latent factors and regularization = 0.001: validation RMSE is 3.3331102801915704\n",
      "12 latent factors and regularization = 0.01: validation RMSE is 2.9467707735746833\n",
      "12 latent factors and regularization = 0.05: validation RMSE is 2.816589387154773\n",
      "12 latent factors and regularization = 0.1: validation RMSE is 2.7352330477000217\n",
      "12 latent factors and regularization = 0.2: validation RMSE is 2.6822093319222815\n",
      "14 latent factors and regularization = 0.001: validation RMSE is 3.3331102801915704\n",
      "14 latent factors and regularization = 0.01: validation RMSE is 2.9467707735746833\n",
      "14 latent factors and regularization = 0.05: validation RMSE is 2.816589387154773\n",
      "14 latent factors and regularization = 0.1: validation RMSE is 2.7352330477000217\n",
      "14 latent factors and regularization = 0.2: validation RMSE is 2.6822093319222815\n",
      "16 latent factors and regularization = 0.001: validation RMSE is 3.3331102801915704\n",
      "16 latent factors and regularization = 0.01: validation RMSE is 2.9467707735746833\n",
      "16 latent factors and regularization = 0.05: validation RMSE is 2.816589387154773\n",
      "16 latent factors and regularization = 0.1: validation RMSE is 2.7352330477000217\n",
      "16 latent factors and regularization = 0.2: validation RMSE is 2.6822093319222815\n",
      "18 latent factors and regularization = 0.001: validation RMSE is 3.3331102801915704\n",
      "18 latent factors and regularization = 0.01: validation RMSE is 2.9467707735746833\n",
      "18 latent factors and regularization = 0.05: validation RMSE is 2.816589387154773\n",
      "18 latent factors and regularization = 0.1: validation RMSE is 2.7352330477000217\n",
      "18 latent factors and regularization = 0.2: validation RMSE is 2.6822093319222815\n",
      "20 latent factors and regularization = 0.001: validation RMSE is 3.3331102801915704\n",
      "20 latent factors and regularization = 0.01: validation RMSE is 2.9467707735746833\n",
      "20 latent factors and regularization = 0.05: validation RMSE is 2.816589387154773\n",
      "20 latent factors and regularization = 0.1: validation RMSE is 2.7352330477000217\n",
      "20 latent factors and regularization = 0.2: validation RMSE is 2.6822093319222815\n",
      "\n",
      "The best model has 8 latent factors and regularization = 0.2\n",
      "Total Runtime: 298.50 seconds\n"
     ]
    }
   ],
   "source": [
    "# hyper-param config\n",
    "num_iterations = 10\n",
    "ranks = [8, 10, 12, 14, 16, 18, 20]\n",
    "reg_params = [0.001, 0.01, 0.05, 0.1, 0.2]\n",
    "\n",
    "# grid search and select best model\n",
    "start_time = time.time()\n",
    "final_model = train_ALS(train, test, num_iterations, reg_params, ranks)\n",
    "\n",
    "print ('Total Runtime: {:.2f} seconds'.format(time.time() - start_time))"
   ]
  },
  {
   "cell_type": "markdown",
   "metadata": {},
   "source": [
    "### ALS model learning curve"
   ]
  },
  {
   "cell_type": "markdown",
   "metadata": {},
   "source": [
    "As a last step in our project, let's plot the learning curve of the Spark ALS model (with the best parameters selected by grid search) compared to the number of iterations over our dataset:"
   ]
  },
  {
   "cell_type": "code",
   "execution_count": 19,
   "metadata": {},
   "outputs": [],
   "source": [
    "def plot_learning_curve(arr_iters, train_data, validation_data, reg, rank):\n",
    "    \"\"\"\n",
    "    Plot function to show learning curve of ALS\n",
    "    \"\"\"\n",
    "    errors = []\n",
    "    for num_iters in arr_iters:\n",
    "        # train ALS model\n",
    "        als = ALS(maxIter=num_iters, regParam=reg, userCol=\"_1\", itemCol=\"_2\", ratingCol=\"_3\", \n",
    "                  coldStartStrategy=\"drop\")\n",
    "        model = als.fit(train)\n",
    "        # make prediction\n",
    "        predictions = model.transform(test)\n",
    "        evaluator = RegressionEvaluator(metricName=\"rmse\", labelCol=\"_3\", predictionCol=\"prediction\")\n",
    "        rmse = evaluator.evaluate(predictions)\n",
    "        errors.append(rmse)\n",
    "\n",
    "    # plot\n",
    "    plt.figure(figsize=(12, 6))\n",
    "    plt.plot(arr_iters, errors)\n",
    "    plt.xlabel('number of iterations')\n",
    "    plt.ylabel('RMSE')\n",
    "    plt.title('ALS Learning Curve')\n",
    "    plt.grid(True)\n",
    "    plt.show()"
   ]
  },
  {
   "cell_type": "code",
   "execution_count": 20,
   "metadata": {
    "scrolled": true
   },
   "outputs": [
    {
     "data": {
      "image/png": "[encoded data removed]",
      "text/plain": [
       "<Figure size 864x432 with 1 Axes>"
      ]
     },
     "metadata": {},
     "output_type": "display_data"
    }
   ],
   "source": [
    "# create an array of num_iters\n",
    "iter_array = list(range(1, 11))\n",
    "\n",
    "# create learning curve plot with the best parameters computed above\n",
    "plot_learning_curve(iter_array, train, test, 0.2, 8)"
   ]
  },
  {
   "cell_type": "markdown",
   "metadata": {},
   "source": [
    "And finally let's evaluate the final model by computing the RMSE on our test data:"
   ]
  },
  {
   "cell_type": "code",
   "execution_count": 32,
   "metadata": {
    "scrolled": true
   },
   "outputs": [
    {
     "name": "stdout",
     "output_type": "stream",
     "text": [
      "Root-mean-square error = 2.6822093319222815\n"
     ]
    }
   ],
   "source": [
    "predictions = final_model.transform(test)\n",
    "evaluator = RegressionEvaluator(metricName=\"rmse\", labelCol=\"_3\",\n",
    "                                predictionCol=\"prediction\")\n",
    "rmse = evaluator.evaluate(predictions)\n",
    "print(\"Root-mean-square error = \" + str(rmse))"
   ]
  },
  {
   "cell_type": "markdown",
   "metadata": {},
   "source": [
    "## Conclusion"
   ]
  },
  {
   "cell_type": "markdown",
   "metadata": {},
   "source": [
    "In this project, we were able to successfully apply the algorithms presented by a research article to another dataset, and with another framework (Spark). In the course of our work, we were also able to do additional research on the topic of recommender systems, to get more familair with the topic.\n",
    "\n",
    "To go further than this project, a possibility we see is the most recent research about Neural Networks for recommender systems. These new methods go even further than collaborative filtering and matrix factorization by leveraging embeddings of metadata and of the content itself, in order to provide even more accurate recommendations (e.g.: music recommendations based on a mix of user metadata, explicit feedback, implicit feedback and music content analysis with neural networks).\n",
    "\n",
    "All in all, we feel like in this project we were able to apply knowledge from the Database Management course and to learn a lot personnaly - in coding, there's nothing better than learning by doing!"
   ]
  }
 ],
 "metadata": {
  "kernelspec": {
   "display_name": "Python 3",
   "language": "python",
   "name": "python3"
  },
  "language_info": {
   "codemirror_mode": {
    "name": "ipython",
    "version": 3
   },
   "file_extension": ".py",
   "mimetype": "text/x-python",
   "name": "python",
   "nbconvert_exporter": "python",
   "pygments_lexer": "ipython3",
   "version": "3.6.4"
  },
  "toc": {
   "base_numbering": 1,
   "nav_menu": {},
   "number_sections": true,
   "sideBar": true,
   "skip_h1_title": true,
   "title_cell": "Table of Contents",
   "title_sidebar": "Contents",
   "toc_cell": true,
   "toc_position": {
    "height": "calc(100% - 180px)",
    "left": "10px",
    "top": "150px",
    "width": "288px"
   },
   "toc_section_display": true,
   "toc_window_display": true
  },
  "varInspector": {
   "cols": {
    "lenName": 16,
    "lenType": 16,
    "lenVar": 40
   },
   "kernels_config": {
    "python": {
     "delete_cmd_postfix": "",
     "delete_cmd_prefix": "del ",
     "library": "var_list.py",
     "varRefreshCmd": "print(var_dic_list())"
    },
    "r": {
     "delete_cmd_postfix": ") ",
     "delete_cmd_prefix": "rm(",
     "library": "var_list.r",
     "varRefreshCmd": "cat(var_dic_list()) "
    }
   },
   "types_to_exclude": [
    "module",
    "function",
    "builtin_function_or_method",
    "instance",
    "_Feature"
   ],
   "window_display": false
  }
 },
 "nbformat": 4,
 "nbformat_minor": 2
}
